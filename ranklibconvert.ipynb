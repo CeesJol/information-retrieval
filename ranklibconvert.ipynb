{
 "cells": [
  {
   "cell_type": "code",
   "execution_count": 16,
   "metadata": {},
   "outputs": [],
   "source": [
    "# import pandas as pd\n",
    "# import numpy as np\n",
    "\n",
    "# file_train_qrels=\"qrels.dev(1).tsv\"\n",
    "# file_train_queries=\"Factor40Shrunken9413queries.dev.tsv\"\n",
    "# file_train_bm25_results=\"runs.msmarco-passage.dev.trec\"\n",
    "# file_passage_lengths = \"dev_passage_lengths\"\n",
    "\n",
    "# dfqrels = pd.read_csv(file_train_qrels, sep=\" \", names=[\"query\", \"/\", \"document\", \"relevance\"])\n",
    "# coln = dfqrels.columns.tolist()\n",
    "# dfqrels = dfqrels[[\"document\",\"relevance\",\"query\"]]\n",
    "\n",
    "# dfqueries = pd.read_csv(file_train_queries, sep=\"\\t\", names=[\"query\", \"query text\"])\n",
    "\n",
    "# dfplength = pd.read_csv(file_passage_lengths, sep=\"\\t\", names=[\"document\", \"length\"])\n",
    "\n",
    "\n",
    "# dfbm25 = pd.read_csv(file_train_bm25_results, sep=\" \", names=[\"query\", \"/\", \"document\", \"rank\", \"bm25\", \"/2\"])\n",
    "# def prefixit(x, prefix):\n",
    "#     return str(prefix)+str(x)\n",
    "\n",
    "# def prefixqid(x):\n",
    "#     return prefixit(x, \"qid:\")\n",
    "\n",
    "# def prefix1(x):\n",
    "#     return prefixit(x, \"1:\")\n",
    "\n",
    "# def prefix2(x):\n",
    "#     return prefixit(x, \"2:\")"
   ]
  },
  {
   "cell_type": "code",
   "execution_count": 3,
   "metadata": {},
   "outputs": [
    {
     "data": {
      "text/plain": [
       "'done'"
      ]
     },
     "metadata": {},
     "output_type": "display_data"
    }
   ],
   "source": [
    "import pandas as pd\n",
    "import numpy as np\n",
    "\n",
    "file_train_qrels=\"qrels.dev(1).tsv\"\n",
    "file_train_queries=\"Factor40Shrunken9413queries.dev.tsv\"\n",
    "file_train_bm25_results=\"runs.msmarco-passage.dev.trec\"\n",
    "\n",
    "from IPython.display import display, clear_output\n",
    "# from pyserini.index import IndexReader\n",
    "display(\"Gathering QREL File\")\n",
    "qrelfile = open(file_train_qrels, 'r', encoding=\"utf-8\")\n",
    "clear_output(wait=True)\n",
    "display(\"Gathering Query File\")\n",
    "queryfile = open(file_train_queries, 'r', encoding=\"utf-8\")\n",
    "clear_output(wait=True)\n",
    "display(\"Gathering BM25 File\")\n",
    "bm25file = open(file_train_bm25_results, 'r', encoding=\"utf-8\")\n",
    "clear_output(wait=True)\n",
    "display(\"Gathering Collection File\")\n",
    "collectionfile = \"collection.tsv\"\n",
    "# clear_output(wait=True)\n",
    "# display(\"Reading Index\")\n",
    "# index_reader = IndexReader('indexes/msmarco-passage/lucene-index-msmarco')\n",
    "clear_output(wait=True)\n",
    "display(\"Preparing for Processing\")\n",
    "qrellines = qrelfile.readlines()\n",
    "querylines = queryfile.readlines()\n",
    "bm25lines = bm25file.readlines()\n",
    "passages = pd.read_csv(collectionfile, sep=\"\\t\", names=[\"pid\", \"passage\"]).to_numpy()\n",
    "qrelfile.close()\n",
    "queryfile.close()\n",
    "bm25file.close()\n",
    "clear_output(wait=True)\n",
    "display(\"done\")"
   ]
  },
  {
   "cell_type": "code",
   "execution_count": null,
   "metadata": {},
   "outputs": [],
   "source": [
    "passages[pID][1]"
   ]
  },
  {
   "cell_type": "code",
   "execution_count": null,
   "metadata": {},
   "outputs": [],
   "source": [
    "import random\n",
    "import itertools\n",
    "\n",
    "def get_stopwords_ratio(passage):\n",
    "    stopwords = [\"i\", \"me\", \"my\", \"myself\", \"we\", \"our\", \"ours\", \"ourselves\", \"you\", \"your\", \"yours\", \"yourself\", \"yourselves\", \"he\", \"him\", \"his\", \"himself\", \"she\", \"her\", \"hers\", \"herself\", \"it\", \"its\", \"itself\", \"they\", \"them\", \"their\", \"theirs\", \"themselves\", \"what\", \"which\", \"who\", \"whom\", \"this\", \"that\", \"these\", \"those\", \"am\", \"is\", \"are\", \"was\", \"were\", \"be\", \"been\", \"being\", \"have\", \"has\", \"had\", \"having\", \"do\", \"does\", \"did\", \"doing\", \"a\", \"an\", \"the\", \"and\", \"but\", \"if\", \"or\", \"because\", \"as\", \"until\", \"while\", \"of\", \"at\", \"by\", \"for\", \"with\", \"about\", \"against\", \"between\", \"into\", \"through\", \"during\", \"before\", \"after\", \"above\", \"below\", \"to\", \"from\", \"up\", \"down\", \"in\", \"out\", \"on\", \"off\", \"over\", \"under\", \"again\", \"further\", \"then\", \"once\", \"here\", \"there\", \"when\", \"where\", \"why\", \"how\", \"all\", \"any\", \"both\", \"each\", \"few\", \"more\", \"most\", \"other\", \"some\", \"such\", \"no\", \"nor\", \"not\", \"only\", \"own\", \"same\", \"so\", \"than\", \"too\", \"very\", \"s\", \"t\", \"can\", \"will\", \"just\", \"don\", \"should\", \"now\"]\n",
    "    passage_terms = passage.split()\n",
    "    n_stopwords = 0\n",
    "    for term in passage_terms:\n",
    "        if term in stopwords:\n",
    "            n_stopwords += 1\n",
    "    return n_stopwords / len(passage_terms)\n",
    "\n",
    "def get_tf_idf(query, pid):\n",
    "    tf_dict = index_reader.get_document_vector(str(pid))\n",
    "    df_dict = {term: (index_reader.get_term_counts(term, analyzer=None))[0] for term in tf_dict.keys()}\n",
    "    number_of_passages = 8841823\n",
    "    tf_idf = 0\n",
    "    query_terms = query.split()\n",
    "    unique_query_terms = list(dict.fromkeys(query_terms))\n",
    "\n",
    "    for term in unique_query_terms:\n",
    "        if term in tf_dict:\n",
    "            tf = tf_dict[term]\n",
    "            idf = math.log(number_of_passages / df_dict[term])\n",
    "            tf_idf += tf * idf\n",
    "    \n",
    "    return tf_idf\n",
    "\n",
    "\n",
    "outFile = open(\"documentidlist\"+str(random.randrange(10000)), 'w', encoding=\"utf-8\")\n",
    "qrelDict = dict()\n",
    "queryDict = dict()\n",
    "queryLengthDict = dict()\n",
    "maxQL = 0\n",
    "maxPL = len(max(passages[:,1], key=len))\n",
    "ResSet = []\n",
    "display(\"Gathering relevance judgements\")\n",
    "for qrelLine in qrellines:\n",
    "    qrelSplit = qrelLine[:-1].split(\"\\t\")\n",
    "    qrelDict[str(qrelSplit[0])+\"|\"+str(qrelSplit[2])]=qrelSplit[3]\n",
    "clear_output(wait=True)\n",
    "display(\"Gathering queries\")\n",
    "for queryLine in querylines:\n",
    "    querySplit = queryLine[:-1].split(\"\\t\")\n",
    "    queryDict[querySplit[0]] = querySplit[1]\n",
    "    QL = len(querySplit[1])\n",
    "    queryLengthDict[querySplit[0]] = QL\n",
    "    if (QL > maxQL):\n",
    "        maxQL = QL\n",
    "clear_output(wait=True)\n",
    "display(\"Processing features\")\n",
    "i = 0\n",
    "l = 1#len(bm25lines)\n",
    "for bm25Line in bm25lines:\n",
    "    bm25Split = bm25Line[:-1].split(\" \")\n",
    "    pID = int(bm25Split[2])\n",
    "    qID = int(bm25Split[0])\n",
    "    QID = \"qid:\" + str(qID)\n",
    "    passage = passages[pID][1]\n",
    "    BM25Feature = \"1:\"+str(bm25Split[4])\n",
    "#     tfidf = get_tf_idf(queryDict[str(qID)], pID)\n",
    "    QLFeature = \"2:\"+str(float(queryLengthDict[str(qID)])/float(maxQL))\n",
    "    PLFeature = \"3:\"+str(float(len(passage))/float(maxPL))\n",
    "    TFIDFFeature = \"4:\"#+str(tfidf)\n",
    "    StopWordFeature = \"5:\"+str(get_stopwords_ratio(passage))\n",
    "    outFile.write(str(QID) + \"\\t\" + str(BM25Feature)+\"\\t\" + str(QLFeature)+\"\\t\" + str(PLFeature)+\"\\t\" + str(TFIDFFeature)+\"\\t\" + str(StopWordFeature)+\"\\n\")\n",
    "    if (i % int(l/100) == 0):\n",
    "        clear_output(wait=True)\n",
    "        display(str(int(i/l*100))+\"%\") \n",
    "    i+=1\n",
    "clear_output(wait=True)\n",
    "display(\"100%\")\n",
    "outFile.close()\n",
    "display(\"Done!\")"
   ]
  },
  {
   "cell_type": "code",
   "execution_count": 4,
   "metadata": {},
   "outputs": [
    {
     "name": "stdout",
     "output_type": "stream",
     "text": [
      "^C\n"
     ]
    }
   ],
   "source": []
  },
  {
   "cell_type": "code",
   "execution_count": null,
   "metadata": {},
   "outputs": [],
   "source": []
  },
  {
   "cell_type": "code",
   "execution_count": null,
   "metadata": {},
   "outputs": [],
   "source": []
  },
  {
   "cell_type": "code",
   "execution_count": 108,
   "metadata": {},
   "outputs": [],
   "source": [
    "# dfbm25=dfbm25.loc[dfbm25['rank'] < 11]\n",
    "# dfbm25['relevance'] = 0\n",
    "# dfbm25['length'] = 0\n",
    "# resultArr = dfbm25[['document','relevance','query','bm25', 'length']].to_numpy()"
   ]
  },
  {
   "cell_type": "code",
   "execution_count": null,
   "metadata": {},
   "outputs": [],
   "source": [
    "# i = 0\n",
    "# for line in resultArr:\n",
    "#     if (dfqrels[['query','document']].values == [line[2], line[0]]).all(axis=1).any():\n",
    "#          line[1] = 1\n",
    "#     l0 = line[0]\n",
    "#     dfl = dfplength['document']\n",
    "#     dr = dfplength.loc[(dfl == l0)]\n",
    "#     try:\n",
    "#         line[4] = dr['length']\n",
    "#     except:\n",
    "#         print(line[0])\n",
    "#     if (i % 1000 == 0): print(i) \n",
    "#     i+=1\n",
    "# resultArr"
   ]
  },
  {
   "cell_type": "code",
   "execution_count": 141,
   "metadata": {},
   "outputs": [
    {
     "data": {
      "text/html": [
       "<div>\n",
       "<style scoped>\n",
       "    .dataframe tbody tr th:only-of-type {\n",
       "        vertical-align: middle;\n",
       "    }\n",
       "\n",
       "    .dataframe tbody tr th {\n",
       "        vertical-align: top;\n",
       "    }\n",
       "\n",
       "    .dataframe thead th {\n",
       "        text-align: right;\n",
       "    }\n",
       "</style>\n",
       "<table border=\"1\" class=\"dataframe\">\n",
       "  <thead>\n",
       "    <tr style=\"text-align: right;\">\n",
       "      <th></th>\n",
       "      <th>document</th>\n",
       "      <th>relevance</th>\n",
       "      <th>query</th>\n",
       "      <th>bm25</th>\n",
       "      <th>length</th>\n",
       "    </tr>\n",
       "  </thead>\n",
       "  <tbody>\n",
       "    <tr>\n",
       "      <th>0</th>\n",
       "      <td>4744533.0</td>\n",
       "      <td>0.0</td>\n",
       "      <td>qid:1108939.0</td>\n",
       "      <td>1:1.0</td>\n",
       "      <td>2:0.2001198322348712</td>\n",
       "    </tr>\n",
       "    <tr>\n",
       "      <th>1</th>\n",
       "      <td>4069373.0</td>\n",
       "      <td>0.0</td>\n",
       "      <td>qid:1108939.0</td>\n",
       "      <td>1:0.5</td>\n",
       "      <td>2:0.170760934691432</td>\n",
       "    </tr>\n",
       "    <tr>\n",
       "      <th>2</th>\n",
       "      <td>3652655.0</td>\n",
       "      <td>0.0</td>\n",
       "      <td>qid:1108939.0</td>\n",
       "      <td>1:0.3333333333333333</td>\n",
       "      <td>2:0.4409826243259437</td>\n",
       "    </tr>\n",
       "    <tr>\n",
       "      <th>3</th>\n",
       "      <td>7454708.0</td>\n",
       "      <td>0.0</td>\n",
       "      <td>qid:1108939.0</td>\n",
       "      <td>1:0.25</td>\n",
       "      <td>2:0.13001797483523067</td>\n",
       "    </tr>\n",
       "    <tr>\n",
       "      <th>4</th>\n",
       "      <td>841975.0</td>\n",
       "      <td>0.0</td>\n",
       "      <td>qid:1108939.0</td>\n",
       "      <td>1:0.2</td>\n",
       "      <td>2:0.18693828639904134</td>\n",
       "    </tr>\n",
       "    <tr>\n",
       "      <th>...</th>\n",
       "      <td>...</td>\n",
       "      <td>...</td>\n",
       "      <td>...</td>\n",
       "      <td>...</td>\n",
       "      <td>...</td>\n",
       "    </tr>\n",
       "    <tr>\n",
       "      <th>1995</th>\n",
       "      <td>8522775.0</td>\n",
       "      <td>0.0</td>\n",
       "      <td>qid:532603.0</td>\n",
       "      <td>1:0.16666666666666666</td>\n",
       "      <td>2:0.0</td>\n",
       "    </tr>\n",
       "    <tr>\n",
       "      <th>1996</th>\n",
       "      <td>8522782.0</td>\n",
       "      <td>0.0</td>\n",
       "      <td>qid:532603.0</td>\n",
       "      <td>1:0.14285714285714285</td>\n",
       "      <td>2:0.0</td>\n",
       "    </tr>\n",
       "    <tr>\n",
       "      <th>1997</th>\n",
       "      <td>8522776.0</td>\n",
       "      <td>0.0</td>\n",
       "      <td>qid:532603.0</td>\n",
       "      <td>1:0.125</td>\n",
       "      <td>2:0.0</td>\n",
       "    </tr>\n",
       "    <tr>\n",
       "      <th>1998</th>\n",
       "      <td>2195904.0</td>\n",
       "      <td>0.0</td>\n",
       "      <td>qid:532603.0</td>\n",
       "      <td>1:0.1111111111111111</td>\n",
       "      <td>2:0.0</td>\n",
       "    </tr>\n",
       "    <tr>\n",
       "      <th>1999</th>\n",
       "      <td>7474474.0</td>\n",
       "      <td>0.0</td>\n",
       "      <td>qid:532603.0</td>\n",
       "      <td>1:0.1</td>\n",
       "      <td>2:0.0</td>\n",
       "    </tr>\n",
       "  </tbody>\n",
       "</table>\n",
       "<p>2000 rows × 5 columns</p>\n",
       "</div>"
      ],
      "text/plain": [
       "       document  relevance          query                   bm25  \\\n",
       "0     4744533.0        0.0  qid:1108939.0                  1:1.0   \n",
       "1     4069373.0        0.0  qid:1108939.0                  1:0.5   \n",
       "2     3652655.0        0.0  qid:1108939.0   1:0.3333333333333333   \n",
       "3     7454708.0        0.0  qid:1108939.0                 1:0.25   \n",
       "4      841975.0        0.0  qid:1108939.0                  1:0.2   \n",
       "...         ...        ...            ...                    ...   \n",
       "1995  8522775.0        0.0   qid:532603.0  1:0.16666666666666666   \n",
       "1996  8522782.0        0.0   qid:532603.0  1:0.14285714285714285   \n",
       "1997  8522776.0        0.0   qid:532603.0                1:0.125   \n",
       "1998  2195904.0        0.0   qid:532603.0   1:0.1111111111111111   \n",
       "1999  7474474.0        0.0   qid:532603.0                  1:0.1   \n",
       "\n",
       "                     length  \n",
       "0      2:0.2001198322348712  \n",
       "1       2:0.170760934691432  \n",
       "2      2:0.4409826243259437  \n",
       "3     2:0.13001797483523067  \n",
       "4     2:0.18693828639904134  \n",
       "...                     ...  \n",
       "1995                  2:0.0  \n",
       "1996                  2:0.0  \n",
       "1997                  2:0.0  \n",
       "1998                  2:0.0  \n",
       "1999                  2:0.0  \n",
       "\n",
       "[2000 rows x 5 columns]"
      ]
     },
     "execution_count": 141,
     "metadata": {},
     "output_type": "execute_result"
    }
   ],
   "source": [
    "# dfresults = pd.DataFrame(data=resultArr, columns=['document','relevance','query','bm25', 'length'])\n",
    "# dfresults['query'] = dfresults['query'].apply(prefixqid)\n",
    "# dfresults['bm25'] = dfresults['bm25'].apply(prefix1)\n",
    "# dfresults['length'] = dfresults['length'].apply(prefix2)\n",
    "# dfresults"
   ]
  },
  {
   "cell_type": "code",
   "execution_count": 142,
   "metadata": {},
   "outputs": [],
   "source": [
    "# dfresults[['relevance','query','bm25', 'length']].to_csv(\"ranklibconvertoutputtrain.txt\",sep=\"\\t\", index=False)"
   ]
  },
  {
   "cell_type": "code",
   "execution_count": 143,
   "metadata": {},
   "outputs": [],
   "source": [
    "# uniqueDocIDs = dfbm25['document'].unique()"
   ]
  },
  {
   "cell_type": "code",
   "execution_count": 144,
   "metadata": {},
   "outputs": [],
   "source": [
    "# file1 = open(\"documentidlist\", 'w', encoding=\"utf-8\")\n",
    "# file1.writelines([str(documentID)+\"\\n\" for documentID in uniqueDocIDs])\n"
   ]
  },
  {
   "cell_type": "code",
   "execution_count": 47,
   "metadata": {},
   "outputs": [
    {
     "data": {
      "text/plain": [
       "array([[1185869,       0],\n",
       "       [1185868,      16],\n",
       "       [ 597651,      49],\n",
       "       ...,\n",
       "       [ 559149, 8841547],\n",
       "       [ 706678, 8841643],\n",
       "       [ 405466, 8841735]], dtype=int64)"
      ]
     },
     "execution_count": 47,
     "metadata": {},
     "output_type": "execute_result"
    }
   ],
   "source": []
  },
  {
   "cell_type": "code",
   "execution_count": 61,
   "metadata": {},
   "outputs": [
    {
     "data": {
      "text/plain": [
       "202180"
      ]
     },
     "execution_count": 61,
     "metadata": {},
     "output_type": "execute_result"
    }
   ],
   "source": [
    "# len(resultArr)"
   ]
  },
  {
   "cell_type": "code",
   "execution_count": 73,
   "metadata": {},
   "outputs": [
    {
     "data": {
      "text/plain": [
       "array([7.26795500e+06, 0.00000000e+00, 6.13790000e+04, 1.25000000e-01,\n",
       "       1.09047334e-01])"
      ]
     },
     "execution_count": 73,
     "metadata": {},
     "output_type": "execute_result"
    }
   ],
   "source": [
    "# resultArr[201157]"
   ]
  },
  {
   "cell_type": "code",
   "execution_count": 74,
   "metadata": {},
   "outputs": [
    {
     "data": {
      "text/plain": [
       "array([6.62109500e+06, 0.00000000e+00, 6.13790000e+04, 1.11111111e-01,\n",
       "       0.00000000e+00])"
      ]
     },
     "execution_count": 74,
     "metadata": {},
     "output_type": "execute_result"
    }
   ],
   "source": [
    "# resultArr[201158]"
   ]
  },
  {
   "cell_type": "code",
   "execution_count": 1,
   "metadata": {},
   "outputs": [
    {
     "data": {
      "text/plain": [
       "'what slows down the flow of blood->'"
      ]
     },
     "metadata": {},
     "output_type": "display_data"
    },
    {
     "data": {
      "text/plain": [
       "'what slows down the flow of blood A river is a natural flowing watercourse, usually freshwater, flowing towards an ocean, sea, lake or another river. Hemodynamics or haemodynamics are the dynamics of blood flow.'"
      ]
     },
     "metadata": {},
     "output_type": "display_data"
    },
    {
     "data": {
      "text/plain": [
       "' '"
      ]
     },
     "metadata": {},
     "output_type": "display_data"
    },
    {
     "data": {
      "text/plain": [
       "'what is the county for grand rapids, mn->'"
      ]
     },
     "metadata": {},
     "output_type": "display_data"
    },
    {
     "data": {
      "text/plain": [
       "'what is the county for grand rapids, mn Grand Rapids is a city in and the county seat of Itasca County, Minnesota, United States.'"
      ]
     },
     "metadata": {},
     "output_type": "display_data"
    },
    {
     "data": {
      "text/plain": [
       "' '"
      ]
     },
     "metadata": {},
     "output_type": "display_data"
    },
    {
     "data": {
      "text/plain": [
       "'what is ruclip->'"
      ]
     },
     "metadata": {},
     "output_type": "display_data"
    },
    {
     "data": {
      "text/plain": [
       "'what is ruclip'"
      ]
     },
     "metadata": {},
     "output_type": "display_data"
    },
    {
     "data": {
      "text/plain": [
       "' '"
      ]
     },
     "metadata": {},
     "output_type": "display_data"
    },
    {
     "data": {
      "text/plain": [
       "'what do you do when you have a nosebleed from having your nose->'"
      ]
     },
     "metadata": {},
     "output_type": "display_data"
    },
    {
     "data": {
      "text/plain": [
       "'what do you do when you have a nosebleed from having your nose A nosebleed, also known as epistaxis, is bleeding from the nose.'"
      ]
     },
     "metadata": {},
     "output_type": "display_data"
    },
    {
     "data": {
      "text/plain": [
       "' '"
      ]
     },
     "metadata": {},
     "output_type": "display_data"
    },
    {
     "data": {
      "text/plain": [
       "'where is sugar lake lodge located->'"
      ]
     },
     "metadata": {},
     "output_type": "display_data"
    },
    {
     "data": {
      "text/plain": [
       "'where is sugar lake lodge located Sugar Bowl is a ski and snowboard area in northern Placer County near Norden, California along the Donner Pass of the Sierra Nevada, approximately 46 mi (74 km) west of Reno, Nevada on Interstate 80, that opened on December 15, 1939. Spirit Lake is a lake in Skamania County, Washington, United States, located north of Mount St.'"
      ]
     },
     "metadata": {},
     "output_type": "display_data"
    },
    {
     "data": {
      "text/plain": [
       "' '"
      ]
     },
     "metadata": {},
     "output_type": "display_data"
    },
    {
     "data": {
      "text/plain": [
       "'where is steph currys home in nc->'"
      ]
     },
     "metadata": {},
     "output_type": "display_data"
    },
    {
     "data": {
      "text/plain": [
       "'where is steph currys home in nc Wardell Stephen \"Steph\" Curry II ( STEF-ən; born March 14, 1988) is an American professional basketball player for the Golden State Warriors of the National Basketball Association (NBA). Currys (branded as Currys PC World) is a British electrical retailer operating in the United Kingdom and Republic of Ireland, owned by Dixons Carphone. NC Dinos (Korean: NC 다이노스) are a South Korean professional baseball team based in Changwon.'"
      ]
     },
     "metadata": {},
     "output_type": "display_data"
    },
    {
     "data": {
      "text/plain": [
       "' '"
      ]
     },
     "metadata": {},
     "output_type": "display_data"
    },
    {
     "data": {
      "text/plain": [
       "'iur definition->'"
      ]
     },
     "metadata": {},
     "output_type": "display_data"
    },
    {
     "data": {
      "text/plain": [
       "'iur definition This is a list of Latin words with derivatives in English (and other modern languages).'"
      ]
     },
     "metadata": {},
     "output_type": "display_data"
    },
    {
     "data": {
      "text/plain": [
       "' '"
      ]
     },
     "metadata": {},
     "output_type": "display_data"
    },
    {
     "data": {
      "text/plain": [
       "'meaning of heat capacity->'"
      ]
     },
     "metadata": {},
     "output_type": "display_data"
    },
    {
     "data": {
      "text/plain": [
       "'meaning of heat capacity Heat capacity or thermal capacity is a physical property of matter, defined as the amount of heat to be supplied to a given mass of a material to produce a unit change in its temperature.'"
      ]
     },
     "metadata": {},
     "output_type": "display_data"
    },
    {
     "data": {
      "text/plain": [
       "' '"
      ]
     },
     "metadata": {},
     "output_type": "display_data"
    },
    {
     "data": {
      "text/plain": [
       "'synonym for treatment->'"
      ]
     },
     "metadata": {},
     "output_type": "display_data"
    },
    {
     "data": {
      "text/plain": [
       "'synonym for treatment The Botanical and Zoological Codes of nomenclature treat the concept of synonymy differently.'"
      ]
     },
     "metadata": {},
     "output_type": "display_data"
    },
    {
     "data": {
      "text/plain": [
       "' '"
      ]
     },
     "metadata": {},
     "output_type": "display_data"
    },
    {
     "data": {
      "text/plain": [
       "'what party is paul ryan in->'"
      ]
     },
     "metadata": {},
     "output_type": "display_data"
    },
    {
     "data": {
      "text/plain": [
       "'what party is paul ryan in Paul Davis Ryan (born January 29, 1970) is a retired American politician who served as the 54th speaker of the United States House of Representatives from October 2015 to January 2019.'"
      ]
     },
     "metadata": {},
     "output_type": "display_data"
    },
    {
     "data": {
      "text/plain": [
       "' '"
      ]
     },
     "metadata": {},
     "output_type": "display_data"
    },
    {
     "data": {
      "text/plain": [
       "'cast of sky captain and the world of tomorrow->'"
      ]
     },
     "metadata": {},
     "output_type": "display_data"
    },
    {
     "data": {
      "text/plain": [
       "'cast of sky captain and the world of tomorrow Sky Captain and the World of Tomorrow, often shortened to Sky Captain, is a 2004 American science fiction action-adventure film written and directed by Kerry Conran in his directorial debut, and produced by Jon Avnet, Sadie Frost, Jude Law and Marsha Oglesby.'"
      ]
     },
     "metadata": {},
     "output_type": "display_data"
    },
    {
     "data": {
      "text/plain": [
       "' '"
      ]
     },
     "metadata": {},
     "output_type": "display_data"
    },
    {
     "data": {
      "text/plain": [
       "'foods to detox liver naturally->'"
      ]
     },
     "metadata": {},
     "output_type": "display_data"
    },
    {
     "data": {
      "text/plain": [
       "'foods to detox liver naturally'"
      ]
     },
     "metadata": {},
     "output_type": "display_data"
    },
    {
     "data": {
      "text/plain": [
       "' '"
      ]
     },
     "metadata": {},
     "output_type": "display_data"
    },
    {
     "data": {
      "text/plain": [
       "\"sop's policy->\""
      ]
     },
     "metadata": {},
     "output_type": "display_data"
    },
    {
     "data": {
      "text/plain": [
       "\"sop's policy In computing, the same-origin policy (sometimes abbreviated as SOP) is an important concept in the web application security model.\""
      ]
     },
     "metadata": {},
     "output_type": "display_data"
    },
    {
     "data": {
      "text/plain": [
       "' '"
      ]
     },
     "metadata": {},
     "output_type": "display_data"
    },
    {
     "data": {
      "text/plain": [
       "'what origin is the last name goins->'"
      ]
     },
     "metadata": {},
     "output_type": "display_data"
    },
    {
     "data": {
      "text/plain": [
       "'what origin is the last name goins Chinese surnames are used by Han Chinese and Sinicized ethnic groups in China, Taiwan, Korea, Vietnam, and among overseas Chinese communities around the world such as Singapore and Malaysia .'"
      ]
     },
     "metadata": {},
     "output_type": "display_data"
    },
    {
     "data": {
      "text/plain": [
       "' '"
      ]
     },
     "metadata": {},
     "output_type": "display_data"
    },
    {
     "data": {
      "text/plain": [
       "'how long is recovery from a face lift and neck lift->'"
      ]
     },
     "metadata": {},
     "output_type": "display_data"
    },
    {
     "data": {
      "text/plain": [
       "'how long is recovery from a face lift and neck lift A facelift, technically known as a rhytidectomy (from Ancient Greek ῥυτίς (rhytis) \"wrinkle\" +  ἐκτομή (ektome) \"excision\", surgical removal of wrinkles), is a type of cosmetic surgery procedure used to give a more youthful facial appearance.'"
      ]
     },
     "metadata": {},
     "output_type": "display_data"
    },
    {
     "data": {
      "text/plain": [
       "' '"
      ]
     },
     "metadata": {},
     "output_type": "display_data"
    },
    {
     "data": {
      "text/plain": [
       "'what type of movement do bacteria exhibit?->'"
      ]
     },
     "metadata": {},
     "output_type": "display_data"
    },
    {
     "data": {
      "text/plain": [
       "'what type of movement do bacteria exhibit? Bacteria ( (listen); common noun bacteria, singular bacterium) are a type of biological cell.'"
      ]
     },
     "metadata": {},
     "output_type": "display_data"
    },
    {
     "data": {
      "text/plain": [
       "' '"
      ]
     },
     "metadata": {},
     "output_type": "display_data"
    },
    {
     "data": {
      "text/plain": [
       "'is prorate the same as daily rate->'"
      ]
     },
     "metadata": {},
     "output_type": "display_data"
    },
    {
     "data": {
      "text/plain": [
       "'is prorate the same as daily rate Average Daily Rate (commonly referred to as ADR) is a statistical unit that is often used in the lodging industry.'"
      ]
     },
     "metadata": {},
     "output_type": "display_data"
    },
    {
     "data": {
      "text/plain": [
       "' '"
      ]
     },
     "metadata": {},
     "output_type": "display_data"
    },
    {
     "data": {
      "text/plain": [
       "'what trail did thousands use to get to the gold rush->'"
      ]
     },
     "metadata": {},
     "output_type": "display_data"
    },
    {
     "data": {
      "text/plain": [
       "'what trail did thousands use to get to the gold rush Gold is a chemical element with the symbol Au (from Latin: aurum) and atomic number 79, making it one of the higher atomic number elements that occur naturally. Gold Rush (titled Gold Rush: Alaska for the first season) is a reality television series that airs on Discovery and its affiliates worldwide.'"
      ]
     },
     "metadata": {},
     "output_type": "display_data"
    },
    {
     "data": {
      "text/plain": [
       "' '"
      ]
     },
     "metadata": {},
     "output_type": "display_data"
    },
    {
     "data": {
      "text/plain": [
       "'where are the benefits of cinnamon as a supplement?->'"
      ]
     },
     "metadata": {},
     "output_type": "display_data"
    },
    {
     "data": {
      "text/plain": [
       "'where are the benefits of cinnamon as a supplement? An antiflatulent (or deflatulent) agent is a drug used for the alleviation or prevention of excessive intestinal gas, i.e., flatulence.'"
      ]
     },
     "metadata": {},
     "output_type": "display_data"
    },
    {
     "data": {
      "text/plain": [
       "' '"
      ]
     },
     "metadata": {},
     "output_type": "display_data"
    },
    {
     "data": {
      "text/plain": [
       "'what is the medium for an artisan->'"
      ]
     },
     "metadata": {},
     "output_type": "display_data"
    },
    {
     "data": {
      "text/plain": [
       "'what is the medium for an artisan'"
      ]
     },
     "metadata": {},
     "output_type": "display_data"
    },
    {
     "data": {
      "text/plain": [
       "' '"
      ]
     },
     "metadata": {},
     "output_type": "display_data"
    },
    {
     "data": {
      "text/plain": [
       "'do goldfish grow->'"
      ]
     },
     "metadata": {},
     "output_type": "display_data"
    },
    {
     "data": {
      "text/plain": [
       "'do goldfish grow The goldfish (Carassius auratus) is a freshwater fish in the family Cyprinidae of order Cypriniformes.'"
      ]
     },
     "metadata": {},
     "output_type": "display_data"
    },
    {
     "data": {
      "text/plain": [
       "' '"
      ]
     },
     "metadata": {},
     "output_type": "display_data"
    },
    {
     "data": {
      "text/plain": [
       "'truncating meaning->'"
      ]
     },
     "metadata": {},
     "output_type": "display_data"
    },
    {
     "data": {
      "text/plain": [
       "'truncating meaning'"
      ]
     },
     "metadata": {},
     "output_type": "display_data"
    },
    {
     "data": {
      "text/plain": [
       "' '"
      ]
     },
     "metadata": {},
     "output_type": "display_data"
    },
    {
     "data": {
      "text/plain": [
       "'what is wifi vs bluetooth->'"
      ]
     },
     "metadata": {},
     "output_type": "display_data"
    },
    {
     "data": {
      "text/plain": [
       "'what is wifi vs bluetooth Bluetooth is a wireless technology standard used for exchanging data between fixed and mobile devices over short distances using UHF radio waves in the ISM bands, from 2.402 GHz to 2.480 GHz, and building personal area networks (PANs).'"
      ]
     },
     "metadata": {},
     "output_type": "display_data"
    },
    {
     "data": {
      "text/plain": [
       "' '"
      ]
     },
     "metadata": {},
     "output_type": "display_data"
    },
    {
     "data": {
      "text/plain": [
       "'who was the first steam boat operator->'"
      ]
     },
     "metadata": {},
     "output_type": "display_data"
    },
    {
     "data": {
      "text/plain": [
       "'who was the first steam boat operator A steamboat is a boat that is propelled primarily by steam power, typically driving propellers or paddlewheels.'"
      ]
     },
     "metadata": {},
     "output_type": "display_data"
    },
    {
     "data": {
      "text/plain": [
       "' '"
      ]
     },
     "metadata": {},
     "output_type": "display_data"
    },
    {
     "data": {
      "text/plain": [
       "'has trump ever said individual u.s tax rate highest in world->'"
      ]
     },
     "metadata": {},
     "output_type": "display_data"
    },
    {
     "data": {
      "text/plain": [
       "'has trump ever said individual u.s tax rate highest in world The economic policy of the Donald Trump administration was characterized by the individual and corporate tax cuts, attempts to repeal the Affordable Care Act (\"Obamacare\"), trade protectionism, immigration restriction, deregulation focused on the energy and financial sectors, and responses to the COVID-19 pandemic.'"
      ]
     },
     "metadata": {},
     "output_type": "display_data"
    },
    {
     "data": {
      "text/plain": [
       "' '"
      ]
     },
     "metadata": {},
     "output_type": "display_data"
    },
    {
     "data": {
      "text/plain": [
       "'what is the national convention->'"
      ]
     },
     "metadata": {},
     "output_type": "display_data"
    },
    {
     "data": {
      "text/plain": [
       "'what is the national convention The National Convention (French: Convention nationale) was a parliament of the French Revolution, following the two-year National Constituent Assembly and the one-year Legislative Assembly.'"
      ]
     },
     "metadata": {},
     "output_type": "display_data"
    },
    {
     "data": {
      "text/plain": [
       "' '"
      ]
     },
     "metadata": {},
     "output_type": "display_data"
    },
    {
     "data": {
      "text/plain": [
       "'why did the us volunterilay enter ww1->'"
      ]
     },
     "metadata": {},
     "output_type": "display_data"
    },
    {
     "data": {
      "text/plain": [
       "'why did the us volunterilay enter ww1 World War I (or the First World War, often abbreviated as WWI or WW1) was a global war originating in Europe that lasted from 28 July 1914 to 11 November 1918.'"
      ]
     },
     "metadata": {},
     "output_type": "display_data"
    },
    {
     "data": {
      "text/plain": [
       "' '"
      ]
     },
     "metadata": {},
     "output_type": "display_data"
    },
    {
     "data": {
      "text/plain": [
       "'which units can be used to express force?->'"
      ]
     },
     "metadata": {},
     "output_type": "display_data"
    },
    {
     "data": {
      "text/plain": [
       "'which units can be used to express force? The newton (symbol: N) is the International System of Units (SI) derived unit of force.'"
      ]
     },
     "metadata": {},
     "output_type": "display_data"
    },
    {
     "data": {
      "text/plain": [
       "' '"
      ]
     },
     "metadata": {},
     "output_type": "display_data"
    },
    {
     "data": {
      "text/plain": [
       "'irs /gov schedule d->'"
      ]
     },
     "metadata": {},
     "output_type": "display_data"
    },
    {
     "data": {
      "text/plain": [
       "'irs /gov schedule d Internal Revenue Service (IRS) tax forms are forms used for taxpayers and tax-exempt organizations to report financial information to the Internal Revenue Service of the United States.'"
      ]
     },
     "metadata": {},
     "output_type": "display_data"
    },
    {
     "data": {
      "text/plain": [
       "' '"
      ]
     },
     "metadata": {},
     "output_type": "display_data"
    },
    {
     "data": {
      "text/plain": [
       "'javascript how capitalize the first letter of a string->'"
      ]
     },
     "metadata": {},
     "output_type": "display_data"
    },
    {
     "data": {
      "text/plain": [
       "'javascript how capitalize the first letter of a string Alphabetical order is a system whereby character strings are placed in order based on the position of the characters in the conventional ordering of an alphabet.'"
      ]
     },
     "metadata": {},
     "output_type": "display_data"
    },
    {
     "data": {
      "text/plain": [
       "' '"
      ]
     },
     "metadata": {},
     "output_type": "display_data"
    },
    {
     "data": {
      "text/plain": [
       "'port orange what county->'"
      ]
     },
     "metadata": {},
     "output_type": "display_data"
    },
    {
     "data": {
      "text/plain": [
       "'port orange what county Port Orange is a city in Volusia County, Florida.'"
      ]
     },
     "metadata": {},
     "output_type": "display_data"
    },
    {
     "data": {
      "text/plain": [
       "' '"
      ]
     },
     "metadata": {},
     "output_type": "display_data"
    },
    {
     "data": {
      "text/plain": [
       "'who noncommunicable diseases->'"
      ]
     },
     "metadata": {},
     "output_type": "display_data"
    },
    {
     "data": {
      "text/plain": [
       "'who noncommunicable diseases A non-communicable disease (NCD) is a disease that is not transmissible directly from one person to another.'"
      ]
     },
     "metadata": {},
     "output_type": "display_data"
    },
    {
     "data": {
      "text/plain": [
       "' '"
      ]
     },
     "metadata": {},
     "output_type": "display_data"
    },
    {
     "data": {
      "text/plain": [
       "'the quad cast->'"
      ]
     },
     "metadata": {},
     "output_type": "display_data"
    },
    {
     "data": {
      "text/plain": [
       "'the quad cast The engine family known as the Quad 4s was debuted to the public in the spring of 1987.'"
      ]
     },
     "metadata": {},
     "output_type": "display_data"
    },
    {
     "data": {
      "text/plain": [
       "' '"
      ]
     },
     "metadata": {},
     "output_type": "display_data"
    },
    {
     "data": {
      "text/plain": [
       "'what type of work is barbering->'"
      ]
     },
     "metadata": {},
     "output_type": "display_data"
    },
    {
     "data": {
      "text/plain": [
       "\"what type of work is barbering A barber is a person whose occupation is mainly to cut, dress, groom, style and shave men's and boys' hair or beards.\""
      ]
     },
     "metadata": {},
     "output_type": "display_data"
    },
    {
     "data": {
      "text/plain": [
       "' '"
      ]
     },
     "metadata": {},
     "output_type": "display_data"
    },
    {
     "data": {
      "text/plain": [
       "'definition declaratory judgment->'"
      ]
     },
     "metadata": {},
     "output_type": "display_data"
    },
    {
     "data": {
      "text/plain": [
       "'definition declaratory judgment In law, a judgment, also spelled judgement, is a decision of a court regarding the rights and liabilities of parties in a legal action or proceeding.'"
      ]
     },
     "metadata": {},
     "output_type": "display_data"
    },
    {
     "data": {
      "text/plain": [
       "' '"
      ]
     },
     "metadata": {},
     "output_type": "display_data"
    },
    {
     "data": {
      "text/plain": [
       "'ben foster footballer net worth->'"
      ]
     },
     "metadata": {},
     "output_type": "display_data"
    },
    {
     "data": {
      "text/plain": [
       "'ben foster footballer net worth Arian Isa Foster (born August 24, 1986) is a former American football running back and current musical artist under the name Bobby Feeno.'"
      ]
     },
     "metadata": {},
     "output_type": "display_data"
    },
    {
     "data": {
      "text/plain": [
       "' '"
      ]
     },
     "metadata": {},
     "output_type": "display_data"
    },
    {
     "data": {
      "text/plain": [
       "'edward jones phone number->'"
      ]
     },
     "metadata": {},
     "output_type": "display_data"
    },
    {
     "data": {
      "text/plain": [
       "'edward jones phone number Mobile phone tracking is a process for identifying the location of a mobile phone, whether stationary or moving.'"
      ]
     },
     "metadata": {},
     "output_type": "display_data"
    },
    {
     "data": {
      "text/plain": [
       "' '"
      ]
     },
     "metadata": {},
     "output_type": "display_data"
    },
    {
     "data": {
      "text/plain": [
       "'pollen is found on what part of the a flower->'"
      ]
     },
     "metadata": {},
     "output_type": "display_data"
    },
    {
     "data": {
      "text/plain": [
       "'pollen is found on what part of the a flower A flower, sometimes known as a bloom or blossom, is the reproductive structure found in flowering plants (plants of the division Magnoliophyta, also called angiosperms).'"
      ]
     },
     "metadata": {},
     "output_type": "display_data"
    },
    {
     "data": {
      "text/plain": [
       "' '"
      ]
     },
     "metadata": {},
     "output_type": "display_data"
    },
    {
     "data": {
      "text/plain": [
       "'what does pk nail stand for in survey->'"
      ]
     },
     "metadata": {},
     "output_type": "display_data"
    },
    {
     "data": {
      "text/plain": [
       "'what does pk nail stand for in survey Surveying or land surveying is the technique, profession, art, and science of determining the terrestrial or three-dimensional positions of points and the distances and angles between them.'"
      ]
     },
     "metadata": {},
     "output_type": "display_data"
    },
    {
     "data": {
      "text/plain": [
       "' '"
      ]
     },
     "metadata": {},
     "output_type": "display_data"
    },
    {
     "data": {
      "text/plain": [
       "'how far prior to wedding should you mail out invitations->'"
      ]
     },
     "metadata": {},
     "output_type": "display_data"
    },
    {
     "data": {
      "text/plain": [
       "'how far prior to wedding should you mail out invitations A wedding invitation is a letter asking the recipient to attend a wedding.'"
      ]
     },
     "metadata": {},
     "output_type": "display_data"
    },
    {
     "data": {
      "text/plain": [
       "' '"
      ]
     },
     "metadata": {},
     "output_type": "display_data"
    },
    {
     "data": {
      "text/plain": [
       "'what does production design entail->'"
      ]
     },
     "metadata": {},
     "output_type": "display_data"
    },
    {
     "data": {
      "text/plain": [
       "'what does production design entail Computer-aided design (CAD) is the use of computers (or workstations) to aid in the creation, modification, analysis, or optimization of a design.'"
      ]
     },
     "metadata": {},
     "output_type": "display_data"
    },
    {
     "data": {
      "text/plain": [
       "' '"
      ]
     },
     "metadata": {},
     "output_type": "display_data"
    },
    {
     "data": {
      "text/plain": [
       "'which is the definition of a market? in the study of economics->'"
      ]
     },
     "metadata": {},
     "output_type": "display_data"
    },
    {
     "data": {
      "text/plain": [
       "'which is the definition of a market? in the study of economics Various definitions of \\'economics\\' have been proposed, including the definition of \\'economics\\' as \"what economists do\".'"
      ]
     },
     "metadata": {},
     "output_type": "display_data"
    },
    {
     "data": {
      "text/plain": [
       "' '"
      ]
     },
     "metadata": {},
     "output_type": "display_data"
    },
    {
     "data": {
      "text/plain": [
       "'right pelvic pain causes->'"
      ]
     },
     "metadata": {},
     "output_type": "display_data"
    },
    {
     "data": {
      "text/plain": [
       "'right pelvic pain causes A pelvic fracture is a break of the bony structure of the pelvis.'"
      ]
     },
     "metadata": {},
     "output_type": "display_data"
    },
    {
     "data": {
      "text/plain": [
       "' '"
      ]
     },
     "metadata": {},
     "output_type": "display_data"
    },
    {
     "data": {
      "text/plain": [
       "'what does e pluribus unum mean in latin->'"
      ]
     },
     "metadata": {},
     "output_type": "display_data"
    },
    {
     "data": {
      "text/plain": [
       "'what does e pluribus unum mean in latin The phrase Novus ordo seclorum (English: , Latin: [ˈnɔwʊs ˈoːrdoː seːˈkloːrũː]; \"New order of the ages\") is the second of two mottos that appear on the reverse (or back side) of the Great Seal of the United States (the first motto is Annuit cœptis).'"
      ]
     },
     "metadata": {},
     "output_type": "display_data"
    },
    {
     "data": {
      "text/plain": [
       "' '"
      ]
     },
     "metadata": {},
     "output_type": "display_data"
    },
    {
     "data": {
      "text/plain": [
       "'what are the social determinants of health->'"
      ]
     },
     "metadata": {},
     "output_type": "display_data"
    },
    {
     "data": {
      "text/plain": [
       "'what are the social determinants of health The  social determinants of health are the economic and social conditions that influence individual and group differences in health status.'"
      ]
     },
     "metadata": {},
     "output_type": "display_data"
    },
    {
     "data": {
      "text/plain": [
       "' '"
      ]
     },
     "metadata": {},
     "output_type": "display_data"
    },
    {
     "data": {
      "text/plain": [
       "'what contains specific instructions that make each living thing unique?->'"
      ]
     },
     "metadata": {},
     "output_type": "display_data"
    },
    {
     "data": {
      "text/plain": [
       "'what contains specific instructions that make each living thing unique? An advance healthcare directive, also known as living will, personal directive, advance directive, medical directive or advance decision, is a legal document in which a person specifies what actions should be taken for their health if they are no longer able to make decisions for themselves because of illness or incapacity. This is a list of the longest-living biological organisms: the individual(s) (or in some instances, clones) of a species with the longest natural maximum lifespans.'"
      ]
     },
     "metadata": {},
     "output_type": "display_data"
    },
    {
     "data": {
      "text/plain": [
       "' '"
      ]
     },
     "metadata": {},
     "output_type": "display_data"
    },
    {
     "data": {
      "text/plain": [
       "'what county is pontiac, illinois in?->'"
      ]
     },
     "metadata": {},
     "output_type": "display_data"
    },
    {
     "data": {
      "text/plain": [
       "'what county is pontiac, illinois in? Pontiac is a city in Livingston County, Illinois, United States.'"
      ]
     },
     "metadata": {},
     "output_type": "display_data"
    },
    {
     "data": {
      "text/plain": [
       "' '"
      ]
     },
     "metadata": {},
     "output_type": "display_data"
    },
    {
     "data": {
      "text/plain": [
       "'what are the three distinct layers of the earth?->'"
      ]
     },
     "metadata": {},
     "output_type": "display_data"
    },
    {
     "data": {
      "text/plain": [
       "'what are the three distinct layers of the earth? Lake stratification is the tendency of lakes to form separate and distinct thermal layers during warm weather.'"
      ]
     },
     "metadata": {},
     "output_type": "display_data"
    },
    {
     "data": {
      "text/plain": [
       "' '"
      ]
     },
     "metadata": {},
     "output_type": "display_data"
    },
    {
     "data": {
      "text/plain": [
       "'who was the first african-american to win wimbledon->'"
      ]
     },
     "metadata": {},
     "output_type": "display_data"
    },
    {
     "data": {
      "text/plain": [
       "'who was the first african-american to win wimbledon African Americans (also known as Black Americans and Afro-Americans) are an ethnic group in the United States.'"
      ]
     },
     "metadata": {},
     "output_type": "display_data"
    },
    {
     "data": {
      "text/plain": [
       "' '"
      ]
     },
     "metadata": {},
     "output_type": "display_data"
    },
    {
     "data": {
      "text/plain": [
       "'sensibilities, definition->'"
      ]
     },
     "metadata": {},
     "output_type": "display_data"
    },
    {
     "data": {
      "text/plain": [
       "'sensibilities, definition Definition of Real is the second studio album by rapper Plies.'"
      ]
     },
     "metadata": {},
     "output_type": "display_data"
    },
    {
     "data": {
      "text/plain": [
       "' '"
      ]
     },
     "metadata": {},
     "output_type": "display_data"
    },
    {
     "data": {
      "text/plain": [
       "'noct temperature->'"
      ]
     },
     "metadata": {},
     "output_type": "display_data"
    },
    {
     "data": {
      "text/plain": [
       "'noct temperature An automaton (; plural: automata or automatons) is a relatively self-operating machine, or a machine or control mechanism designed to automatically follow a predetermined sequence of operations, or respond to predetermined instructions.'"
      ]
     },
     "metadata": {},
     "output_type": "display_data"
    },
    {
     "data": {
      "text/plain": [
       "' '"
      ]
     },
     "metadata": {},
     "output_type": "display_data"
    },
    {
     "data": {
      "text/plain": [
       "'does legionella pneumophila cause pneumonia->'"
      ]
     },
     "metadata": {},
     "output_type": "display_data"
    },
    {
     "data": {
      "text/plain": [
       "'does legionella pneumophila cause pneumonia Legionella pneumophila is a thin, aerobic, pleomorphic, flagellated, non-spore-forming, Gram-negative bacterium of the genus Legionella.'"
      ]
     },
     "metadata": {},
     "output_type": "display_data"
    },
    {
     "data": {
      "text/plain": [
       "' '"
      ]
     },
     "metadata": {},
     "output_type": "display_data"
    },
    {
     "data": {
      "text/plain": [
       "'cost for cremation->'"
      ]
     },
     "metadata": {},
     "output_type": "display_data"
    },
    {
     "data": {
      "text/plain": [
       "'cost for cremation Cremation is a method of final disposition of a dead body through burning (combustion).Cremation may serve as a funeral or post-funeral rite and as an alternative to the burial or interment of an intact dead body.'"
      ]
     },
     "metadata": {},
     "output_type": "display_data"
    },
    {
     "data": {
      "text/plain": [
       "' '"
      ]
     },
     "metadata": {},
     "output_type": "display_data"
    },
    {
     "data": {
      "text/plain": [
       "'generic vivelle dot cost->'"
      ]
     },
     "metadata": {},
     "output_type": "display_data"
    },
    {
     "data": {
      "text/plain": [
       "'generic vivelle dot cost Estradiol (E2) is a medication and naturally occurring steroid hormone.'"
      ]
     },
     "metadata": {},
     "output_type": "display_data"
    },
    {
     "data": {
      "text/plain": [
       "' '"
      ]
     },
     "metadata": {},
     "output_type": "display_data"
    },
    {
     "data": {
      "text/plain": [
       "'what does dual band->'"
      ]
     },
     "metadata": {},
     "output_type": "display_data"
    },
    {
     "data": {
      "text/plain": [
       "'what does dual band In telecommunications, a multi-band device (including dual-band, tri-band, quad-band and penta-band devices) is a communication device (especially a mobile phone) that supports multiple radio frequency bands.'"
      ]
     },
     "metadata": {},
     "output_type": "display_data"
    },
    {
     "data": {
      "text/plain": [
       "' '"
      ]
     },
     "metadata": {},
     "output_type": "display_data"
    },
    {
     "data": {
      "text/plain": [
       "'how is the weather in jamaica->'"
      ]
     },
     "metadata": {},
     "output_type": "display_data"
    },
    {
     "data": {
      "text/plain": [
       "'how is the weather in jamaica The Jamaica national bobsleigh team represents Jamaica in international bobsleighing competitions.'"
      ]
     },
     "metadata": {},
     "output_type": "display_data"
    },
    {
     "data": {
      "text/plain": [
       "' '"
      ]
     },
     "metadata": {},
     "output_type": "display_data"
    },
    {
     "data": {
      "text/plain": [
       "'how far between shirleysburg pa and newville pa->'"
      ]
     },
     "metadata": {},
     "output_type": "display_data"
    },
    {
     "data": {
      "text/plain": [
       "'how far between shirleysburg pa and newville pa The East Broad Top Railroad and Coal Company (EBT) is a 3 ft (914 mm) narrow gauge historic and heritage railroad headquartered in Rockhill Furnace, Pennsylvania, 19 miles (31 km) north of Interstate 76 (the Pennsylvania Turnpike) and 11 miles (18 km) south of U.S. Route 22, the William Penn Highway. Lancaster County locally , (Pennsylvania German: Lengeschder Kaundi) sometimes nicknamed the Garden Spot of America or Pennsylvania Dutch Country, is a county located in the south central part of the Commonwealth of Pennsylvania.'"
      ]
     },
     "metadata": {},
     "output_type": "display_data"
    },
    {
     "data": {
      "text/plain": [
       "' '"
      ]
     },
     "metadata": {},
     "output_type": "display_data"
    },
    {
     "data": {
      "text/plain": [
       "'is the titanic the biggest ship ever->'"
      ]
     },
     "metadata": {},
     "output_type": "display_data"
    },
    {
     "data": {
      "text/plain": [
       "'is the titanic the biggest ship ever Titanic is a 1997 American epic romance and disaster film directed, written, co-produced, and co-edited by James Cameron.'"
      ]
     },
     "metadata": {},
     "output_type": "display_data"
    },
    {
     "data": {
      "text/plain": [
       "' '"
      ]
     },
     "metadata": {},
     "output_type": "display_data"
    },
    {
     "data": {
      "text/plain": [
       "'how much money a united airline get as a captain pilot->'"
      ]
     },
     "metadata": {},
     "output_type": "display_data"
    },
    {
     "data": {
      "text/plain": [
       "'how much money a united airline get as a captain pilot Captain Gorur Ramaswamy Iyengar Gopinath (born 13 November 1951) is an Indian entrepreneur, the founder of Air Deccan, a retired Captain of the Indian Army, an author, and a politician. Chesley Burnett \"Sully\" Sullenberger III (born January 23, 1951) is an American retired Air Force fighter pilot and airline captain.'"
      ]
     },
     "metadata": {},
     "output_type": "display_data"
    },
    {
     "data": {
      "text/plain": [
       "' '"
      ]
     },
     "metadata": {},
     "output_type": "display_data"
    },
    {
     "data": {
      "text/plain": [
       "'acura integra timing belt replacement cost->'"
      ]
     },
     "metadata": {},
     "output_type": "display_data"
    },
    {
     "data": {
      "text/plain": [
       "'acura integra timing belt replacement cost In internal combustion engines, variable valve timing (VVT) is the process of altering the timing of a valve lift event, and is often used to improve performance, fuel economy or emissions.'"
      ]
     },
     "metadata": {},
     "output_type": "display_data"
    },
    {
     "data": {
      "text/plain": [
       "' '"
      ]
     },
     "metadata": {},
     "output_type": "display_data"
    },
    {
     "data": {
      "text/plain": [
       "'function of malt->'"
      ]
     },
     "metadata": {},
     "output_type": "display_data"
    },
    {
     "data": {
      "text/plain": [
       "'function of malt'"
      ]
     },
     "metadata": {},
     "output_type": "display_data"
    },
    {
     "data": {
      "text/plain": [
       "' '"
      ]
     },
     "metadata": {},
     "output_type": "display_data"
    },
    {
     "data": {
      "text/plain": [
       "'ceramic-tiles how much the cost for square foot->'"
      ]
     },
     "metadata": {},
     "output_type": "display_data"
    },
    {
     "data": {
      "text/plain": [
       "'ceramic-tiles how much the cost for square foot A ceramic is any of the various hard, brittle, heat-resistant and corrosion-resistant materials made by shaping and then firing a nonmetallic mineral, such as clay, at a high temperature. Madison Square Garden, colloquially known as The Garden or in initials as MSG, is a multi-purpose indoor arena in New York City.'"
      ]
     },
     "metadata": {},
     "output_type": "display_data"
    },
    {
     "data": {
      "text/plain": [
       "' '"
      ]
     },
     "metadata": {},
     "output_type": "display_data"
    },
    {
     "data": {
      "text/plain": [
       "'socioemotional processes definition->'"
      ]
     },
     "metadata": {},
     "output_type": "display_data"
    },
    {
     "data": {
      "text/plain": [
       "'socioemotional processes definition In psychology, decision-making (also spelled decision making and decisionmaking) is regarded as the cognitive process resulting in the selection of a belief or a course of action among several possible alternative options, it could be either rational or irrational.'"
      ]
     },
     "metadata": {},
     "output_type": "display_data"
    },
    {
     "data": {
      "text/plain": [
       "' '"
      ]
     },
     "metadata": {},
     "output_type": "display_data"
    },
    {
     "data": {
      "text/plain": [
       "'types of dysarthria from cerebral palsy->'"
      ]
     },
     "metadata": {},
     "output_type": "display_data"
    },
    {
     "data": {
      "text/plain": [
       "'types of dysarthria from cerebral palsy Athetoid cerebral palsy, or dyskinetic cerebral palsy (sometimes abbreviated ADCP), is a type of cerebral palsy primarily associated with damage, like other forms of CP, to the basal ganglia in the form of lesions that occur during brain development due to bilirubin encephalopathy and hypoxic–ischemic brain injury.'"
      ]
     },
     "metadata": {},
     "output_type": "display_data"
    },
    {
     "data": {
      "text/plain": [
       "' '"
      ]
     },
     "metadata": {},
     "output_type": "display_data"
    },
    {
     "data": {
      "text/plain": [
       "'average price for kitchen cabinets installation->'"
      ]
     },
     "metadata": {},
     "output_type": "display_data"
    },
    {
     "data": {
      "text/plain": [
       "'average price for kitchen cabinets installation A handyman, also known as a fixer, handyperson or handyworker, is a person skilled at a wide range of repairs, typically around the home.'"
      ]
     },
     "metadata": {},
     "output_type": "display_data"
    },
    {
     "data": {
      "text/plain": [
       "' '"
      ]
     },
     "metadata": {},
     "output_type": "display_data"
    },
    {
     "data": {
      "text/plain": [
       "'what is a period calculus->'"
      ]
     },
     "metadata": {},
     "output_type": "display_data"
    },
    {
     "data": {
      "text/plain": [
       "'what is a period calculus Calculus, originally called infinitesimal calculus or \"the calculus of infinitesimals\", is the mathematical study of continuous change, in the same way that geometry is the study of shape and algebra is the study of generalizations of arithmetic operations.'"
      ]
     },
     "metadata": {},
     "output_type": "display_data"
    },
    {
     "data": {
      "text/plain": [
       "' '"
      ]
     },
     "metadata": {},
     "output_type": "display_data"
    },
    {
     "data": {
      "text/plain": [
       "'bond strike price->'"
      ]
     },
     "metadata": {},
     "output_type": "display_data"
    },
    {
     "data": {
      "text/plain": [
       "'bond strike price In finance, the strike price (or exercise price) of an option is a fixed price at which the owner of the option can buy (in the case of a call), or sell (in the case of a put), the underlying security or commodity.'"
      ]
     },
     "metadata": {},
     "output_type": "display_data"
    },
    {
     "data": {
      "text/plain": [
       "' '"
      ]
     },
     "metadata": {},
     "output_type": "display_data"
    },
    {
     "data": {
      "text/plain": [
       "'why was the sat developed->'"
      ]
     },
     "metadata": {},
     "output_type": "display_data"
    },
    {
     "data": {
      "text/plain": [
       "'why was the sat developed The SAT ( ess-ay-TEE) is a standardized test widely used for college admissions in the United States.'"
      ]
     },
     "metadata": {},
     "output_type": "display_data"
    },
    {
     "data": {
      "text/plain": [
       "' '"
      ]
     },
     "metadata": {},
     "output_type": "display_data"
    },
    {
     "data": {
      "text/plain": [
       "'ira spar phone number->'"
      ]
     },
     "metadata": {},
     "output_type": "display_data"
    },
    {
     "data": {
      "text/plain": [
       "'ira spar phone number A telephone number is a sequence of digits assigned to a fixed-line telephone subscriber station connected to a telephone line or to a wireless electronic telephony device, such as a radio telephone or a mobile telephone, or to other devices for data transmission via the public switched telephone network (PSTN) or other public and private networks.'"
      ]
     },
     "metadata": {},
     "output_type": "display_data"
    },
    {
     "data": {
      "text/plain": [
       "' '"
      ]
     },
     "metadata": {},
     "output_type": "display_data"
    },
    {
     "data": {
      "text/plain": [
       "'what is ar balance->'"
      ]
     },
     "metadata": {},
     "output_type": "display_data"
    },
    {
     "data": {
      "text/plain": [
       "\"what is ar balance An AR-15 style rifle is a lightweight semi-automatic rifle based on the ArmaLite AR-15 design, which is itself a scaled-down derivative of Eugene Stoner's AR-10 design.\""
      ]
     },
     "metadata": {},
     "output_type": "display_data"
    },
    {
     "data": {
      "text/plain": [
       "' '"
      ]
     },
     "metadata": {},
     "output_type": "display_data"
    },
    {
     "data": {
      "text/plain": [
       "'biggest house you can buy in skyrim->'"
      ]
     },
     "metadata": {},
     "output_type": "display_data"
    },
    {
     "data": {
      "text/plain": [
       "'biggest house you can buy in skyrim Bethesda Softworks LLC is an American video game publisher based in Rockville, Maryland.'"
      ]
     },
     "metadata": {},
     "output_type": "display_data"
    },
    {
     "data": {
      "text/plain": [
       "' '"
      ]
     },
     "metadata": {},
     "output_type": "display_data"
    },
    {
     "data": {
      "text/plain": [
       "'definition of a first harmonic->'"
      ]
     },
     "metadata": {},
     "output_type": "display_data"
    },
    {
     "data": {
      "text/plain": [
       "'definition of a first harmonic The total harmonic distortion (THD or THDi) is a measurement of the harmonic distortion present in a signal and is defined as the ratio of the sum of the powers of all harmonic components to the power of the fundamental frequency.'"
      ]
     },
     "metadata": {},
     "output_type": "display_data"
    },
    {
     "data": {
      "text/plain": [
       "' '"
      ]
     },
     "metadata": {},
     "output_type": "display_data"
    },
    {
     "name": "stderr",
     "output_type": "stream",
     "text": [
      "C:\\Users\\Erwin\\anaconda3\\lib\\site-packages\\wikipedia\\wikipedia.py:389: GuessedAtParserWarning: No parser was explicitly specified, so I'm using the best available HTML parser for this system (\"lxml\"). This usually isn't a problem, but if you run this code on another system, or in a different virtual environment, it may use a different parser and behave differently.\n",
      "\n",
      "The code that caused this warning is on line 389 of the file C:\\Users\\Erwin\\anaconda3\\lib\\site-packages\\wikipedia\\wikipedia.py. To get rid of this warning, pass the additional argument 'features=\"lxml\"' to the BeautifulSoup constructor.\n",
      "\n",
      "  lis = BeautifulSoup(html).find_all('li')\n"
     ]
    },
    {
     "data": {
      "text/plain": [
       "'who is robert gray->'"
      ]
     },
     "metadata": {},
     "output_type": "display_data"
    },
    {
     "data": {
      "text/plain": [
       "'who is robert gray'"
      ]
     },
     "metadata": {},
     "output_type": "display_data"
    },
    {
     "data": {
      "text/plain": [
       "' '"
      ]
     },
     "metadata": {},
     "output_type": "display_data"
    },
    {
     "data": {
      "text/plain": [
       "'what types of food can you cook sous vide->'"
      ]
     },
     "metadata": {},
     "output_type": "display_data"
    },
    {
     "data": {
      "text/plain": [
       "\"what types of food can you cook sous vide Sous vide (; French for 'under vacuum'), also known as low temperature long time (LTLT) cooking, is a method of cooking in which food is placed in a plastic pouch or a glass jar and cooked in a water bath for longer than usual cooking times (usually 1 to 7 hours, up to 72 or more hours in some cases) at a precisely regulated temperature.\""
      ]
     },
     "metadata": {},
     "output_type": "display_data"
    },
    {
     "data": {
      "text/plain": [
       "' '"
      ]
     },
     "metadata": {},
     "output_type": "display_data"
    },
    {
     "data": {
      "text/plain": [
       "'how long is life cycle of flea->'"
      ]
     },
     "metadata": {},
     "output_type": "display_data"
    },
    {
     "data": {
      "text/plain": [
       "'how long is life cycle of flea The dog flea (Ctenocephalides canis) is a species of flea that lives as an ectoparasite on a wide variety of mammals, particularly the domestic dog and cat.'"
      ]
     },
     "metadata": {},
     "output_type": "display_data"
    },
    {
     "data": {
      "text/plain": [
       "' '"
      ]
     },
     "metadata": {},
     "output_type": "display_data"
    },
    {
     "data": {
      "text/plain": [
       "'what can contour plowing reduce->'"
      ]
     },
     "metadata": {},
     "output_type": "display_data"
    },
    {
     "data": {
      "text/plain": [
       "'what can contour plowing reduce Contour bunding or contour farming or Contour ploughing is the farming practice of plowing and/or planting across a slope following its elevation contour lines.'"
      ]
     },
     "metadata": {},
     "output_type": "display_data"
    },
    {
     "data": {
      "text/plain": [
       "' '"
      ]
     },
     "metadata": {},
     "output_type": "display_data"
    },
    {
     "data": {
      "text/plain": [
       "'when was the salvation army founded->'"
      ]
     },
     "metadata": {},
     "output_type": "display_data"
    },
    {
     "data": {
      "text/plain": [
       "'when was the salvation army founded The Salvation Army (TSA) is a Christian church and an international charitable organisation.'"
      ]
     },
     "metadata": {},
     "output_type": "display_data"
    },
    {
     "data": {
      "text/plain": [
       "' '"
      ]
     },
     "metadata": {},
     "output_type": "display_data"
    },
    {
     "data": {
      "text/plain": [
       "'what is a active margin->'"
      ]
     },
     "metadata": {},
     "output_type": "display_data"
    },
    {
     "data": {
      "text/plain": [
       "'what is a active margin A convergent boundary (also known as a destructive boundary) is an area on Earth where two or more lithospheric plates collide.'"
      ]
     },
     "metadata": {},
     "output_type": "display_data"
    },
    {
     "data": {
      "text/plain": [
       "' '"
      ]
     },
     "metadata": {},
     "output_type": "display_data"
    },
    {
     "data": {
      "text/plain": [
       "'what is epicureanism->'"
      ]
     },
     "metadata": {},
     "output_type": "display_data"
    },
    {
     "data": {
      "text/plain": [
       "'what is epicureanism'"
      ]
     },
     "metadata": {},
     "output_type": "display_data"
    },
    {
     "data": {
      "text/plain": [
       "' '"
      ]
     },
     "metadata": {},
     "output_type": "display_data"
    },
    {
     "data": {
      "text/plain": [
       "'how many calories in tablespoon mayonnaise->'"
      ]
     },
     "metadata": {},
     "output_type": "display_data"
    },
    {
     "data": {
      "text/plain": [
       "'how many calories in tablespoon mayonnaise Mayonnaise, informally mayo, is a thick cold sauce or dressing commonly used in sandwiches, hamburgers, composed salads, and on French fries.'"
      ]
     },
     "metadata": {},
     "output_type": "display_data"
    },
    {
     "data": {
      "text/plain": [
       "' '"
      ]
     },
     "metadata": {},
     "output_type": "display_data"
    },
    {
     "data": {
      "text/plain": [
       "'what is ftl games->'"
      ]
     },
     "metadata": {},
     "output_type": "display_data"
    },
    {
     "data": {
      "text/plain": [
       "'what is ftl games'"
      ]
     },
     "metadata": {},
     "output_type": "display_data"
    },
    {
     "data": {
      "text/plain": [
       "' '"
      ]
     },
     "metadata": {},
     "output_type": "display_data"
    },
    {
     "data": {
      "text/plain": [
       "'which numbers are the account number on the check->'"
      ]
     },
     "metadata": {},
     "output_type": "display_data"
    },
    {
     "data": {
      "text/plain": [
       "'which numbers are the account number on the check A payment card number, primary account number (PAN), or simply a card number, is the card identifier found on payment cards, such as credit cards and debit cards, as well as stored-value cards, gift cards and other similar cards. The International Bank Account Number (IBAN) is an internationally agreed system of identifying bank accounts across national borders to facilitate the communication and processing of cross border transactions with a reduced risk of transcription errors.'"
      ]
     },
     "metadata": {},
     "output_type": "display_data"
    },
    {
     "data": {
      "text/plain": [
       "' '"
      ]
     },
     "metadata": {},
     "output_type": "display_data"
    },
    {
     "data": {
      "text/plain": [
       "'chicco pocket snack booster seat, grey->'"
      ]
     },
     "metadata": {},
     "output_type": "display_data"
    },
    {
     "data": {
      "text/plain": [
       "'chicco pocket snack booster seat, grey Suzuki Mehran was a rebadged version of the Second-generation Suzuki Alto CA/CC71, Manufactured by Pak Suzuki Motors.'"
      ]
     },
     "metadata": {},
     "output_type": "display_data"
    },
    {
     "data": {
      "text/plain": [
       "' '"
      ]
     },
     "metadata": {},
     "output_type": "display_data"
    },
    {
     "data": {
      "text/plain": [
       "'difference between rn and bsn->'"
      ]
     },
     "metadata": {},
     "output_type": "display_data"
    },
    {
     "data": {
      "text/plain": [
       "'difference between rn and bsn The Bachelor of Science in Nursing (BSN, BScN) also known in some countries as a Bachelor of Nursing (BN) or Bachelor of Science (BS) with a Major in Nursing is an academic degree in the science and principles of nursing, granted by an accredited tertiary education provider.'"
      ]
     },
     "metadata": {},
     "output_type": "display_data"
    },
    {
     "data": {
      "text/plain": [
       "' '"
      ]
     },
     "metadata": {},
     "output_type": "display_data"
    },
    {
     "data": {
      "text/plain": [
       "\"medicare's definition of mechanical ventilation->\""
      ]
     },
     "metadata": {},
     "output_type": "display_data"
    },
    {
     "data": {
      "text/plain": [
       "\"medicare's definition of mechanical ventilation Modes of mechanical ventilation are one of the most important aspects of the usage of mechanical ventilation.\""
      ]
     },
     "metadata": {},
     "output_type": "display_data"
    },
    {
     "data": {
      "text/plain": [
       "' '"
      ]
     },
     "metadata": {},
     "output_type": "display_data"
    },
    {
     "data": {
      "text/plain": [
       "'phone number for southwest airlines customer service->'"
      ]
     },
     "metadata": {},
     "output_type": "display_data"
    },
    {
     "data": {
      "text/plain": [
       "'phone number for southwest airlines customer service Frontier Airlines is an American ultra low-cost carrier headquartered in Denver, Colorado.'"
      ]
     },
     "metadata": {},
     "output_type": "display_data"
    },
    {
     "data": {
      "text/plain": [
       "' '"
      ]
     },
     "metadata": {},
     "output_type": "display_data"
    },
    {
     "data": {
      "text/plain": [
       "'how to find the midsegment of a trapezoid->'"
      ]
     },
     "metadata": {},
     "output_type": "display_data"
    },
    {
     "data": {
      "text/plain": [
       "'how to find the midsegment of a trapezoid In Euclidean geometry, a convex quadrilateral with at least one pair of parallel sides is referred to as a trapezium () in English outside North America, but as a trapezoid () in American and Canadian English.'"
      ]
     },
     "metadata": {},
     "output_type": "display_data"
    },
    {
     "data": {
      "text/plain": [
       "' '"
      ]
     },
     "metadata": {},
     "output_type": "display_data"
    },
    {
     "data": {
      "text/plain": [
       "'what the health diet->'"
      ]
     },
     "metadata": {},
     "output_type": "display_data"
    },
    {
     "data": {
      "text/plain": [
       "'what the health diet A healthy diet is one that helps maintain or improve overall health.'"
      ]
     },
     "metadata": {},
     "output_type": "display_data"
    },
    {
     "data": {
      "text/plain": [
       "' '"
      ]
     },
     "metadata": {},
     "output_type": "display_data"
    },
    {
     "data": {
      "text/plain": [
       "'what is an aml surveillance analyst->'"
      ]
     },
     "metadata": {},
     "output_type": "display_data"
    },
    {
     "data": {
      "text/plain": [
       "'what is an aml surveillance analyst The know your customer or know your client (KYC) guidelines in financial services require that professionals make an effort to verify the identity, suitability, and risks involved with maintaining a business relationship. Surveillance is the monitoring of behavior, activities, or information for the purpose of information gathering, influencing, managing or directing.'"
      ]
     },
     "metadata": {},
     "output_type": "display_data"
    },
    {
     "data": {
      "text/plain": [
       "' '"
      ]
     },
     "metadata": {},
     "output_type": "display_data"
    },
    {
     "data": {
      "text/plain": [
       "'which is a certificate of debt issued by corporations and governments?->'"
      ]
     },
     "metadata": {},
     "output_type": "display_data"
    },
    {
     "data": {
      "text/plain": [
       "'which is a certificate of debt issued by corporations and governments? A security is a tradable financial asset.'"
      ]
     },
     "metadata": {},
     "output_type": "display_data"
    },
    {
     "data": {
      "text/plain": [
       "' '"
      ]
     },
     "metadata": {},
     "output_type": "display_data"
    },
    {
     "data": {
      "text/plain": [
       "'how much does it cost to go to alabama university->'"
      ]
     },
     "metadata": {},
     "output_type": "display_data"
    },
    {
     "data": {
      "text/plain": [
       "'how much does it cost to go to alabama university CSS Alabama was a screw sloop-of-war built in 1862 for the Confederate States Navy at Birkenhead on the River Mersey opposite Liverpool, England by John Laird Sons and Company.'"
      ]
     },
     "metadata": {},
     "output_type": "display_data"
    },
    {
     "data": {
      "text/plain": [
       "' '"
      ]
     },
     "metadata": {},
     "output_type": "display_data"
    },
    {
     "data": {
      "text/plain": [
       "'what is the daily life of thai people->'"
      ]
     },
     "metadata": {},
     "output_type": "display_data"
    },
    {
     "data": {
      "text/plain": [
       "'what is the daily life of thai people According to ancient customs in Thailand, there is an astrological rule (which has influence from Hindu mythology) that assigns a color to each day of the week based on the color of the God who protects the day or Navagraha.'"
      ]
     },
     "metadata": {},
     "output_type": "display_data"
    },
    {
     "data": {
      "text/plain": [
       "' '"
      ]
     },
     "metadata": {},
     "output_type": "display_data"
    },
    {
     "data": {
      "text/plain": [
       "'what causes heavy metal toxins in your body->'"
      ]
     },
     "metadata": {},
     "output_type": "display_data"
    },
    {
     "data": {
      "text/plain": [
       "'what causes heavy metal toxins in your body Heavy metals are generally defined as metals with relatively high densities, atomic weights, or atomic numbers.'"
      ]
     },
     "metadata": {},
     "output_type": "display_data"
    },
    {
     "data": {
      "text/plain": [
       "' '"
      ]
     },
     "metadata": {},
     "output_type": "display_data"
    },
    {
     "data": {
      "text/plain": [
       "'what is a web domain->'"
      ]
     },
     "metadata": {},
     "output_type": "display_data"
    },
    {
     "data": {
      "text/plain": [
       "'what is a web domain A domain name is an identification string that defines a realm of administrative autonomy, authority or control within the Internet.'"
      ]
     },
     "metadata": {},
     "output_type": "display_data"
    },
    {
     "data": {
      "text/plain": [
       "' '"
      ]
     },
     "metadata": {},
     "output_type": "display_data"
    },
    {
     "data": {
      "text/plain": [
       "'define apprehension.->'"
      ]
     },
     "metadata": {},
     "output_type": "display_data"
    },
    {
     "data": {
      "text/plain": [
       "'define apprehension.'"
      ]
     },
     "metadata": {},
     "output_type": "display_data"
    },
    {
     "data": {
      "text/plain": [
       "' '"
      ]
     },
     "metadata": {},
     "output_type": "display_data"
    },
    {
     "data": {
      "text/plain": [
       "'what colors are louisiana tech->'"
      ]
     },
     "metadata": {},
     "output_type": "display_data"
    },
    {
     "data": {
      "text/plain": [
       "'what colors are louisiana tech Louisiana Tech University (Louisiana Tech, La.'"
      ]
     },
     "metadata": {},
     "output_type": "display_data"
    },
    {
     "data": {
      "text/plain": [
       "' '"
      ]
     },
     "metadata": {},
     "output_type": "display_data"
    },
    {
     "data": {
      "text/plain": [
       "'what is the gonstead chiropractic technique->'"
      ]
     },
     "metadata": {},
     "output_type": "display_data"
    },
    {
     "data": {
      "text/plain": [
       "'what is the gonstead chiropractic technique Chiropractors primarily use manipulation of the spine as a treatment. Chiropractors primarily use manipulation of the spine as a treatment.'"
      ]
     },
     "metadata": {},
     "output_type": "display_data"
    },
    {
     "data": {
      "text/plain": [
       "' '"
      ]
     },
     "metadata": {},
     "output_type": "display_data"
    },
    {
     "data": {
      "text/plain": [
       "'toyota of plano plano tx->'"
      ]
     },
     "metadata": {},
     "output_type": "display_data"
    },
    {
     "data": {
      "text/plain": [
       "'toyota of plano plano tx Plano ( PLAY-noh) is a city in the U.S. state of Texas, about 20 miles (32.2 km) north of downtown Dallas.'"
      ]
     },
     "metadata": {},
     "output_type": "display_data"
    },
    {
     "data": {
      "text/plain": [
       "' '"
      ]
     },
     "metadata": {},
     "output_type": "display_data"
    },
    {
     "data": {
      "text/plain": [
       "'definition of coining money->'"
      ]
     },
     "metadata": {},
     "output_type": "display_data"
    },
    {
     "data": {
      "text/plain": [
       "'definition of coining money Money is any item or verifiable record that is generally accepted as payment for goods and services and repayment of debts, such as taxes, in a particular country or socio-economic context.'"
      ]
     },
     "metadata": {},
     "output_type": "display_data"
    },
    {
     "data": {
      "text/plain": [
       "' '"
      ]
     },
     "metadata": {},
     "output_type": "display_data"
    },
    {
     "data": {
      "text/plain": [
       "'can farang live in thailand->'"
      ]
     },
     "metadata": {},
     "output_type": "display_data"
    },
    {
     "data": {
      "text/plain": [
       "'can farang live in thailand Thailand, officially the Kingdom of Thailand and formerly known as Siam, is a country in Southeast Asia.'"
      ]
     },
     "metadata": {},
     "output_type": "display_data"
    },
    {
     "data": {
      "text/plain": [
       "' '"
      ]
     },
     "metadata": {},
     "output_type": "display_data"
    },
    {
     "data": {
      "text/plain": [
       "'what causes meteor shower on earth->'"
      ]
     },
     "metadata": {},
     "output_type": "display_data"
    },
    {
     "data": {
      "text/plain": [
       "'what causes meteor shower on earth A meteor shower is a celestial event in which a number of meteors are observed to radiate, or originate, from one point in the night sky.'"
      ]
     },
     "metadata": {},
     "output_type": "display_data"
    },
    {
     "data": {
      "text/plain": [
       "' '"
      ]
     },
     "metadata": {},
     "output_type": "display_data"
    },
    {
     "data": {
      "text/plain": [
       "'what is the area where rock under stress breaks and triggers an earthquake?->'"
      ]
     },
     "metadata": {},
     "output_type": "display_data"
    },
    {
     "data": {
      "text/plain": [
       "'what is the area where rock under stress breaks and triggers an earthquake? A volcano tectonic earthquake is an  earthquake caused by the movement of  magma beneath the surface of the Earth.'"
      ]
     },
     "metadata": {},
     "output_type": "display_data"
    },
    {
     "data": {
      "text/plain": [
       "' '"
      ]
     },
     "metadata": {},
     "output_type": "display_data"
    },
    {
     "data": {
      "text/plain": [
       "'average sound bite->'"
      ]
     },
     "metadata": {},
     "output_type": "display_data"
    },
    {
     "data": {
      "text/plain": [
       "'average sound bite Barking Dogs Never Bite (Korean: 플란다스의 개, also known as A Higher Animal and Dog of Flanders) is a 2000 South Korean independent dark comedy film directed and co-written by Bong Joon-ho in his directorial debut.'"
      ]
     },
     "metadata": {},
     "output_type": "display_data"
    },
    {
     "data": {
      "text/plain": [
       "' '"
      ]
     },
     "metadata": {},
     "output_type": "display_data"
    },
    {
     "data": {
      "text/plain": [
       "'definition of a sigmet->'"
      ]
     },
     "metadata": {},
     "output_type": "display_data"
    },
    {
     "data": {
      "text/plain": [
       "'definition of a sigmet'"
      ]
     },
     "metadata": {},
     "output_type": "display_data"
    },
    {
     "data": {
      "text/plain": [
       "' '"
      ]
     },
     "metadata": {},
     "output_type": "display_data"
    },
    {
     "data": {
      "text/plain": [
       "'cost of interior concrete flooring->'"
      ]
     },
     "metadata": {},
     "output_type": "display_data"
    },
    {
     "data": {
      "text/plain": [
       "'cost of interior concrete flooring A cost estimate is the approximation of the cost of a program, project, or operation. Insulating concrete form or insulated concrete form (ICF) is a system of formwork for reinforced concrete usually made with a rigid thermal insulation that stays in place as a permanent interior and exterior substrate for walls, floors, and roofs. Flooring is the general term for a permanent covering of a floor, or for the work of installing such a floor covering.'"
      ]
     },
     "metadata": {},
     "output_type": "display_data"
    },
    {
     "data": {
      "text/plain": [
       "' '"
      ]
     },
     "metadata": {},
     "output_type": "display_data"
    },
    {
     "data": {
      "text/plain": [
       "'what is the most popular food in switzerland->'"
      ]
     },
     "metadata": {},
     "output_type": "display_data"
    },
    {
     "data": {
      "text/plain": [
       "'what is the most popular food in switzerland Swiss cuisine is influenced by French, German and Northern Italian cuisine, as well as by the history of Switzerland as a primarily agricultural country.'"
      ]
     },
     "metadata": {},
     "output_type": "display_data"
    },
    {
     "data": {
      "text/plain": [
       "' '"
      ]
     },
     "metadata": {},
     "output_type": "display_data"
    },
    {
     "data": {
      "text/plain": [
       "'how are some sharks warm blooded->'"
      ]
     },
     "metadata": {},
     "output_type": "display_data"
    },
    {
     "data": {
      "text/plain": [
       "'how are some sharks warm blooded Warm-blooded is an informal term referring to animal species which can maintain a body temperature higher than their environment.'"
      ]
     },
     "metadata": {},
     "output_type": "display_data"
    },
    {
     "data": {
      "text/plain": [
       "' '"
      ]
     },
     "metadata": {},
     "output_type": "display_data"
    },
    {
     "data": {
      "text/plain": [
       "'what is a moderator variable->'"
      ]
     },
     "metadata": {},
     "output_type": "display_data"
    },
    {
     "data": {
      "text/plain": [
       "'what is a moderator variable In statistics and regression analysis, moderation occurs when the relationship between two variables depends on a third variable.'"
      ]
     },
     "metadata": {},
     "output_type": "display_data"
    },
    {
     "data": {
      "text/plain": [
       "' '"
      ]
     },
     "metadata": {},
     "output_type": "display_data"
    },
    {
     "data": {
      "text/plain": [
       "'who is jobu->'"
      ]
     },
     "metadata": {},
     "output_type": "display_data"
    },
    {
     "data": {
      "text/plain": [
       "'who is jobu'"
      ]
     },
     "metadata": {},
     "output_type": "display_data"
    },
    {
     "data": {
      "text/plain": [
       "' '"
      ]
     },
     "metadata": {},
     "output_type": "display_data"
    },
    {
     "data": {
      "text/plain": [
       "'how long to hold bow in yoga->'"
      ]
     },
     "metadata": {},
     "output_type": "display_data"
    },
    {
     "data": {
      "text/plain": [
       "'how long to hold bow in yoga An asana is a body posture, originally and still a general term for a sitting meditation pose, and later extended in hatha yoga and modern yoga as exercise, to any type of pose or position, adding reclining, standing, inverted, twisting, and balancing poses.'"
      ]
     },
     "metadata": {},
     "output_type": "display_data"
    },
    {
     "data": {
      "text/plain": [
       "' '"
      ]
     },
     "metadata": {},
     "output_type": "display_data"
    },
    {
     "data": {
      "text/plain": [
       "'how old is kidman->'"
      ]
     },
     "metadata": {},
     "output_type": "display_data"
    },
    {
     "data": {
      "text/plain": [
       "'how old is kidman Nicole Mary Kidman  (born 20 June 1967) is an Australian actress, singer, and producer.'"
      ]
     },
     "metadata": {},
     "output_type": "display_data"
    },
    {
     "data": {
      "text/plain": [
       "' '"
      ]
     },
     "metadata": {},
     "output_type": "display_data"
    },
    {
     "data": {
      "text/plain": [
       "'honored meaning->'"
      ]
     },
     "metadata": {},
     "output_type": "display_data"
    },
    {
     "data": {
      "text/plain": [
       "'honored meaning The meaning of life, or the answer to the question: \"What is the meaning of life?\", pertains to the significance of living or existence in general.'"
      ]
     },
     "metadata": {},
     "output_type": "display_data"
    },
    {
     "data": {
      "text/plain": [
       "' '"
      ]
     },
     "metadata": {},
     "output_type": "display_data"
    },
    {
     "data": {
      "text/plain": [
       "'definition of tangent->'"
      ]
     },
     "metadata": {},
     "output_type": "display_data"
    },
    {
     "data": {
      "text/plain": [
       "'definition of tangent In geometry, the tangent line (or simply tangent) to a plane curve at a given point is the straight line that \"just touches\" the curve at that point.'"
      ]
     },
     "metadata": {},
     "output_type": "display_data"
    },
    {
     "data": {
      "text/plain": [
       "' '"
      ]
     },
     "metadata": {},
     "output_type": "display_data"
    },
    {
     "data": {
      "text/plain": [
       "'what information is stored on an external hard drive->'"
      ]
     },
     "metadata": {},
     "output_type": "display_data"
    },
    {
     "data": {
      "text/plain": [
       "'what information is stored on an external hard drive In computing, external storage comprises devices that store information outside a computer. A hard disk drive (HDD), hard disk, hard drive, or fixed disk is an electro-mechanical data storage device that stores and retrieves digital data using magnetic storage and one or more rigid rapidly rotating platters coated with magnetic material.'"
      ]
     },
     "metadata": {},
     "output_type": "display_data"
    },
    {
     "data": {
      "text/plain": [
       "' '"
      ]
     },
     "metadata": {},
     "output_type": "display_data"
    },
    {
     "data": {
      "text/plain": [
       "'what is a virus made of->'"
      ]
     },
     "metadata": {},
     "output_type": "display_data"
    },
    {
     "data": {
      "text/plain": [
       "'what is a virus made of A virus is a submicroscopic infectious agent that replicates only inside the living cells of an organism.'"
      ]
     },
     "metadata": {},
     "output_type": "display_data"
    },
    {
     "data": {
      "text/plain": [
       "' '"
      ]
     },
     "metadata": {},
     "output_type": "display_data"
    },
    {
     "data": {
      "text/plain": [
       "'what is durable medical equipment consist of->'"
      ]
     },
     "metadata": {},
     "output_type": "display_data"
    },
    {
     "data": {
      "text/plain": [
       "'what is durable medical equipment consist of Durable medical equipment is any medical equipment used in the home to aid in a better quality of living.'"
      ]
     },
     "metadata": {},
     "output_type": "display_data"
    },
    {
     "data": {
      "text/plain": [
       "' '"
      ]
     },
     "metadata": {},
     "output_type": "display_data"
    },
    {
     "data": {
      "text/plain": [
       "'what is therapy that explores relationship problems->'"
      ]
     },
     "metadata": {},
     "output_type": "display_data"
    },
    {
     "data": {
      "text/plain": [
       "'what is therapy that explores relationship problems Virgin Bhanupriya is a 2020 Indian Hindi-language comedy-drama film directed by Ajay Lohan and produced by Shreyans Mahendra Dhariwal. The principal–agent problem, in political science, supply chain management and economics (also known as agency dilemma or the agency problem) occurs when one person or entity (the \"agent\"), is able to make decisions and/or take actions on behalf of, or that impact, another person or entity: the \"principal\".'"
      ]
     },
     "metadata": {},
     "output_type": "display_data"
    },
    {
     "data": {
      "text/plain": [
       "' '"
      ]
     },
     "metadata": {},
     "output_type": "display_data"
    },
    {
     "data": {
      "text/plain": [
       "'harvey mudd tuition cost->'"
      ]
     },
     "metadata": {},
     "output_type": "display_data"
    },
    {
     "data": {
      "text/plain": [
       "'harvey mudd tuition cost Harvey Mudd College (HMC) is a private college focused on science and engineering and located in Claremont, California.'"
      ]
     },
     "metadata": {},
     "output_type": "display_data"
    },
    {
     "data": {
      "text/plain": [
       "' '"
      ]
     },
     "metadata": {},
     "output_type": "display_data"
    },
    {
     "data": {
      "text/plain": [
       "'what is firewalk->'"
      ]
     },
     "metadata": {},
     "output_type": "display_data"
    },
    {
     "data": {
      "text/plain": [
       "'what is firewalk'"
      ]
     },
     "metadata": {},
     "output_type": "display_data"
    },
    {
     "data": {
      "text/plain": [
       "' '"
      ]
     },
     "metadata": {},
     "output_type": "display_data"
    },
    {
     "data": {
      "text/plain": [
       "'stamford federal credit union routing number->'"
      ]
     },
     "metadata": {},
     "output_type": "display_data"
    },
    {
     "data": {
      "text/plain": [
       "'stamford federal credit union routing number In the United States, an ABA routing transit number (ABA RTN) is a nine-digit code printed on the bottom of checks to identify the financial institution on which it was drawn.'"
      ]
     },
     "metadata": {},
     "output_type": "display_data"
    },
    {
     "data": {
      "text/plain": [
       "' '"
      ]
     },
     "metadata": {},
     "output_type": "display_data"
    },
    {
     "data": {
      "text/plain": [
       "'exons definition biology->'"
      ]
     },
     "metadata": {},
     "output_type": "display_data"
    },
    {
     "data": {
      "text/plain": [
       "'exons definition biology An exon is any part of a gene that will encode a part of the final mature RNA produced by that gene after introns have been removed by RNA splicing.'"
      ]
     },
     "metadata": {},
     "output_type": "display_data"
    },
    {
     "data": {
      "text/plain": [
       "' '"
      ]
     },
     "metadata": {},
     "output_type": "display_data"
    },
    {
     "data": {
      "text/plain": [
       "'what does velvet symbolize->'"
      ]
     },
     "metadata": {},
     "output_type": "display_data"
    },
    {
     "data": {
      "text/plain": [
       "'what does velvet symbolize'"
      ]
     },
     "metadata": {},
     "output_type": "display_data"
    },
    {
     "data": {
      "text/plain": [
       "' '"
      ]
     },
     "metadata": {},
     "output_type": "display_data"
    },
    {
     "data": {
      "text/plain": [
       "'chevy chase meaning->'"
      ]
     },
     "metadata": {},
     "output_type": "display_data"
    },
    {
     "data": {
      "text/plain": [
       "'chevy chase meaning Cornelius Crane \"Chevy\" Chase (; born October 8, 1943) is an American actor, comedian, screenwriter and producer.'"
      ]
     },
     "metadata": {},
     "output_type": "display_data"
    },
    {
     "data": {
      "text/plain": [
       "' '"
      ]
     },
     "metadata": {},
     "output_type": "display_data"
    },
    {
     "data": {
      "text/plain": [
       "'presidential synonym->'"
      ]
     },
     "metadata": {},
     "output_type": "display_data"
    },
    {
     "data": {
      "text/plain": [
       "'presidential synonym A presidential directive, or executive action, is a written or oral instruction or declaration issued by the president of the United States, which may draw upon the powers vested in the president by the U.S. Constitution, statutory law, or, in certain cases, congressional and judicial acquiescence.'"
      ]
     },
     "metadata": {},
     "output_type": "display_data"
    },
    {
     "data": {
      "text/plain": [
       "' '"
      ]
     },
     "metadata": {},
     "output_type": "display_data"
    },
    {
     "data": {
      "text/plain": [
       "'wat is dopamine->'"
      ]
     },
     "metadata": {},
     "output_type": "display_data"
    },
    {
     "data": {
      "text/plain": [
       "'wat is dopamine 2C-B (2,5-dimethoxy-4-bromophenethylamine) is a psychedelic drug of the 2C family.'"
      ]
     },
     "metadata": {},
     "output_type": "display_data"
    },
    {
     "data": {
      "text/plain": [
       "' '"
      ]
     },
     "metadata": {},
     "output_type": "display_data"
    },
    {
     "data": {
      "text/plain": [
       "'define visceral?->'"
      ]
     },
     "metadata": {},
     "output_type": "display_data"
    },
    {
     "data": {
      "text/plain": [
       "'define visceral?'"
      ]
     },
     "metadata": {},
     "output_type": "display_data"
    },
    {
     "data": {
      "text/plain": [
       "' '"
      ]
     },
     "metadata": {},
     "output_type": "display_data"
    },
    {
     "data": {
      "text/plain": [
       "'calories in egg fried->'"
      ]
     },
     "metadata": {},
     "output_type": "display_data"
    },
    {
     "data": {
      "text/plain": [
       "'calories in egg fried A bacon, egg and cheese sandwich is a breakfast sandwich popular in the United States and Canada.'"
      ]
     },
     "metadata": {},
     "output_type": "display_data"
    },
    {
     "data": {
      "text/plain": [
       "' '"
      ]
     },
     "metadata": {},
     "output_type": "display_data"
    },
    {
     "data": {
      "text/plain": [
       "'enemy of the state film cast->'"
      ]
     },
     "metadata": {},
     "output_type": "display_data"
    },
    {
     "data": {
      "text/plain": [
       "'enemy of the state film cast Enemy of the State is a 1998 American action thriller film directed by Tony Scott, produced by Jerry Bruckheimer and written by David Marconi.'"
      ]
     },
     "metadata": {},
     "output_type": "display_data"
    },
    {
     "data": {
      "text/plain": [
       "' '"
      ]
     },
     "metadata": {},
     "output_type": "display_data"
    },
    {
     "data": {
      "text/plain": [
       "'what is amitriptyline prescribed for->'"
      ]
     },
     "metadata": {},
     "output_type": "display_data"
    },
    {
     "data": {
      "text/plain": [
       "'what is amitriptyline prescribed for Amitriptyline, sold under the brand name Elavil among others, is a tricyclic antidepressant primarily used to treat major depressive disorder and a variety of pain syndromes from neuropathic pain to fibromyalgia to migraine and tension headaches.'"
      ]
     },
     "metadata": {},
     "output_type": "display_data"
    },
    {
     "data": {
      "text/plain": [
       "' '"
      ]
     },
     "metadata": {},
     "output_type": "display_data"
    },
    {
     "data": {
      "text/plain": [
       "'tracheids are part of _____.->'"
      ]
     },
     "metadata": {},
     "output_type": "display_data"
    },
    {
     "data": {
      "text/plain": [
       "'tracheids are part of _____.'"
      ]
     },
     "metadata": {},
     "output_type": "display_data"
    },
    {
     "data": {
      "text/plain": [
       "' '"
      ]
     },
     "metadata": {},
     "output_type": "display_data"
    },
    {
     "data": {
      "text/plain": [
       "'how many liberty ships were built in brunswick->'"
      ]
     },
     "metadata": {},
     "output_type": "display_data"
    },
    {
     "data": {
      "text/plain": [
       "'how many liberty ships were built in brunswick Liberty ships were a class of cargo ship built in the United States during World War II. Though British in concept, the design was adopted by the United States for its simple, low-cost construction.'"
      ]
     },
     "metadata": {},
     "output_type": "display_data"
    },
    {
     "data": {
      "text/plain": [
       "' '"
      ]
     },
     "metadata": {},
     "output_type": "display_data"
    },
    {
     "data": {
      "text/plain": [
       "'rsa definition key->'"
      ]
     },
     "metadata": {},
     "output_type": "display_data"
    },
    {
     "data": {
      "text/plain": [
       "'rsa definition key In cryptography, PKCS #1 is the first of a family of standards called Public-Key Cryptography Standards (PKCS), published by RSA Laboratories.'"
      ]
     },
     "metadata": {},
     "output_type": "display_data"
    },
    {
     "data": {
      "text/plain": [
       "' '"
      ]
     },
     "metadata": {},
     "output_type": "display_data"
    },
    {
     "data": {
      "text/plain": [
       "'how many people are in the peru->'"
      ]
     },
     "metadata": {},
     "output_type": "display_data"
    },
    {
     "data": {
      "text/plain": [
       "'how many people are in the peru Indigenous peoples of Peru, or Native Peruvians, comprise a large number of ethnic groups who inhabit territory in present-day Peru.'"
      ]
     },
     "metadata": {},
     "output_type": "display_data"
    },
    {
     "data": {
      "text/plain": [
       "' '"
      ]
     },
     "metadata": {},
     "output_type": "display_data"
    },
    {
     "data": {
      "text/plain": [
       "'what is securenet->'"
      ]
     },
     "metadata": {},
     "output_type": "display_data"
    },
    {
     "data": {
      "text/plain": [
       "'what is securenet'"
      ]
     },
     "metadata": {},
     "output_type": "display_data"
    },
    {
     "data": {
      "text/plain": [
       "' '"
      ]
     },
     "metadata": {},
     "output_type": "display_data"
    },
    {
     "data": {
      "text/plain": [
       "'who formed the commonwealth of independent states->'"
      ]
     },
     "metadata": {},
     "output_type": "display_data"
    },
    {
     "data": {
      "text/plain": [
       "'who formed the commonwealth of independent states The Commonwealth of Independent States (CIS) (Russian: Содружество Независимых Государств, Sodruzhestvo Nezavisimykh Gosudarstv, initialism: СНГ, SNG) is a regional intergovernmental organization of nine (originally ten) members, plus two founding non-member, post-Soviet republics in Eurasia. The Commonwealth of Independent States (CIS) (Russian: Содружество Независимых Государств, Sodruzhestvo Nezavisimykh Gosudarstv, initialism: СНГ, SNG) is a regional intergovernmental organization of nine (originally ten) members, plus two founding non-member, post-Soviet republics in Eurasia.'"
      ]
     },
     "metadata": {},
     "output_type": "display_data"
    },
    {
     "data": {
      "text/plain": [
       "' '"
      ]
     },
     "metadata": {},
     "output_type": "display_data"
    },
    {
     "data": {
      "text/plain": [
       "'largest hindu temple nj->'"
      ]
     },
     "metadata": {},
     "output_type": "display_data"
    },
    {
     "data": {
      "text/plain": [
       "'largest hindu temple nj New Jersey is a state in the Mid-Atlantic and Northeastern regions of the United States.'"
      ]
     },
     "metadata": {},
     "output_type": "display_data"
    },
    {
     "data": {
      "text/plain": [
       "' '"
      ]
     },
     "metadata": {},
     "output_type": "display_data"
    },
    {
     "data": {
      "text/plain": [
       "'who played starsky and hutch->'"
      ]
     },
     "metadata": {},
     "output_type": "display_data"
    },
    {
     "data": {
      "text/plain": [
       "'who played starsky and hutch Starsky & Hutch is an American action television series, which consisted of a 70-minute pilot movie (originally aired as a Movie of the Week entry) and 92 episodes of 50 minutes each.'"
      ]
     },
     "metadata": {},
     "output_type": "display_data"
    },
    {
     "data": {
      "text/plain": [
       "' '"
      ]
     },
     "metadata": {},
     "output_type": "display_data"
    },
    {
     "data": {
      "text/plain": [
       "'when will the next eclipse occur->'"
      ]
     },
     "metadata": {},
     "output_type": "display_data"
    },
    {
     "data": {
      "text/plain": [
       "\"when will the next eclipse occur A lunar eclipse occurs when the Moon moves into the Earth's shadow.\""
      ]
     },
     "metadata": {},
     "output_type": "display_data"
    },
    {
     "data": {
      "text/plain": [
       "' '"
      ]
     },
     "metadata": {},
     "output_type": "display_data"
    },
    {
     "data": {
      "text/plain": [
       "'what are rdw in blood work->'"
      ]
     },
     "metadata": {},
     "output_type": "display_data"
    },
    {
     "data": {
      "text/plain": [
       "\"what are rdw in blood work A complete blood count (CBC), also known as a full blood count (FBC), is a set of medical laboratory tests that provide information about the cells in a person's blood.\""
      ]
     },
     "metadata": {},
     "output_type": "display_data"
    },
    {
     "data": {
      "text/plain": [
       "' '"
      ]
     },
     "metadata": {},
     "output_type": "display_data"
    },
    {
     "data": {
      "text/plain": [
       "'causes of left ventricular hypertrophy->'"
      ]
     },
     "metadata": {},
     "output_type": "display_data"
    },
    {
     "data": {
      "text/plain": [
       "'causes of left ventricular hypertrophy Left ventricular hypertrophy (LVH) is thickening of the heart muscle of the left ventricle of the heart, that is, left-sided ventricular hypertrophy.'"
      ]
     },
     "metadata": {},
     "output_type": "display_data"
    },
    {
     "data": {
      "text/plain": [
       "' '"
      ]
     },
     "metadata": {},
     "output_type": "display_data"
    },
    {
     "data": {
      "text/plain": [
       "'what is a synonym for thoracic->'"
      ]
     },
     "metadata": {},
     "output_type": "display_data"
    },
    {
     "data": {
      "text/plain": [
       "'what is a synonym for thoracic A stenosis (from Ancient Greek στενός, \"narrow\") is an abnormal narrowing in a blood vessel or other tubular organ or structure.'"
      ]
     },
     "metadata": {},
     "output_type": "display_data"
    },
    {
     "data": {
      "text/plain": [
       "' '"
      ]
     },
     "metadata": {},
     "output_type": "display_data"
    },
    {
     "data": {
      "text/plain": [
       "'what are achieved and ascribed statuses?->'"
      ]
     },
     "metadata": {},
     "output_type": "display_data"
    },
    {
     "data": {
      "text/plain": [
       "'what are achieved and ascribed statuses? Ascribed status is a term used in sociology that refers to the social status a person is assigned at birth or assumed involuntarily later in life.'"
      ]
     },
     "metadata": {},
     "output_type": "display_data"
    },
    {
     "data": {
      "text/plain": [
       "' '"
      ]
     },
     "metadata": {},
     "output_type": "display_data"
    },
    {
     "data": {
      "text/plain": [
       "'lps laws definition->'"
      ]
     },
     "metadata": {},
     "output_type": "display_data"
    },
    {
     "data": {
      "text/plain": [
       "'lps laws definition The Lanterman–Petris–Short (LPS) Act (Cal.'"
      ]
     },
     "metadata": {},
     "output_type": "display_data"
    },
    {
     "data": {
      "text/plain": [
       "' '"
      ]
     },
     "metadata": {},
     "output_type": "display_data"
    },
    {
     "data": {
      "text/plain": [
       "'calculate my social security benefit per month->'"
      ]
     },
     "metadata": {},
     "output_type": "display_data"
    },
    {
     "data": {
      "text/plain": [
       "\"calculate my social security benefit per month In the United States, Social Security is the commonly used term for the federal Old-Age, Survivors, and Disability Insurance (OASDI) program and is administered by the Social Security Administration. Child benefit or children's allowance is a social security payment which is distributed to the parents or guardians of children, teenagers and in some cases, young adults.\""
      ]
     },
     "metadata": {},
     "output_type": "display_data"
    },
    {
     "data": {
      "text/plain": [
       "' '"
      ]
     },
     "metadata": {},
     "output_type": "display_data"
    },
    {
     "data": {
      "text/plain": [
       "'what is an exercised stock option->'"
      ]
     },
     "metadata": {},
     "output_type": "display_data"
    },
    {
     "data": {
      "text/plain": [
       "'what is an exercised stock option In finance, an option is a contract which conveys its owner, the holder, the right, but not the obligation, to buy or sell an underlying asset or instrument at a specified strike price prior to or on a specified date, depending on the form of the option. In finance, an option is a contract which conveys its owner, the holder, the right, but not the obligation, to buy or sell an underlying asset or instrument at a specified strike price prior to or on a specified date, depending on the form of the option.'"
      ]
     },
     "metadata": {},
     "output_type": "display_data"
    },
    {
     "data": {
      "text/plain": [
       "' '"
      ]
     },
     "metadata": {},
     "output_type": "display_data"
    },
    {
     "data": {
      "text/plain": [
       "'where do white sox play in chicago->'"
      ]
     },
     "metadata": {},
     "output_type": "display_data"
    },
    {
     "data": {
      "text/plain": [
       "'where do white sox play in chicago The Chicago White Sox are an American professional baseball team based in Chicago.'"
      ]
     },
     "metadata": {},
     "output_type": "display_data"
    },
    {
     "data": {
      "text/plain": [
       "' '"
      ]
     },
     "metadata": {},
     "output_type": "display_data"
    },
    {
     "data": {
      "text/plain": [
       "'what years were the crusades->'"
      ]
     },
     "metadata": {},
     "output_type": "display_data"
    },
    {
     "data": {
      "text/plain": [
       "'what years were the crusades The Crusades were a series of religious wars initiated, supported, and sometimes directed by the Latin Church in the medieval period.'"
      ]
     },
     "metadata": {},
     "output_type": "display_data"
    },
    {
     "data": {
      "text/plain": [
       "' '"
      ]
     },
     "metadata": {},
     "output_type": "display_data"
    },
    {
     "data": {
      "text/plain": [
       "'job ratio engineering->'"
      ]
     },
     "metadata": {},
     "output_type": "display_data"
    },
    {
     "data": {
      "text/plain": [
       "'job ratio engineering Engineering is the use of scientific principles to design and build machines, structures, and other items, including bridges, tunnels, roads, vehicles, and buildings.'"
      ]
     },
     "metadata": {},
     "output_type": "display_data"
    },
    {
     "data": {
      "text/plain": [
       "' '"
      ]
     },
     "metadata": {},
     "output_type": "display_data"
    },
    {
     "data": {
      "text/plain": [
       "'what are the three percenters?->'"
      ]
     },
     "metadata": {},
     "output_type": "display_data"
    },
    {
     "data": {
      "text/plain": [
       "'what are the three percenters? The Three Percenters, also styled 3 Percenters, 3%ers and III%ers, are an American and Canadian far-right, anti-government militia movement.The group advocates gun ownership rights and resistance to U.S. federal government.'"
      ]
     },
     "metadata": {},
     "output_type": "display_data"
    },
    {
     "data": {
      "text/plain": [
       "' '"
      ]
     },
     "metadata": {},
     "output_type": "display_data"
    },
    {
     "data": {
      "text/plain": [
       "'causes of random whitehead outbreaks->'"
      ]
     },
     "metadata": {},
     "output_type": "display_data"
    },
    {
     "data": {
      "text/plain": [
       "'causes of random whitehead outbreaks Causality (also referred to as causation, or cause and effect) is influence by which one event, process, state or object (a cause) contributes to the production of another event, process, state or object (an effect) where the cause is partly responsible for the effect, and the effect is partly dependent on the cause.'"
      ]
     },
     "metadata": {},
     "output_type": "display_data"
    },
    {
     "data": {
      "text/plain": [
       "' '"
      ]
     },
     "metadata": {},
     "output_type": "display_data"
    },
    {
     "data": {
      "text/plain": [
       "'causes of military suicide->'"
      ]
     },
     "metadata": {},
     "output_type": "display_data"
    },
    {
     "data": {
      "text/plain": [
       "\"causes of military suicide Suicide is the act of intentionally causing one's own death.\""
      ]
     },
     "metadata": {},
     "output_type": "display_data"
    },
    {
     "data": {
      "text/plain": [
       "' '"
      ]
     },
     "metadata": {},
     "output_type": "display_data"
    },
    {
     "data": {
      "text/plain": [
       "'which amendment protects a person from cruel or unusual punishment->'"
      ]
     },
     "metadata": {},
     "output_type": "display_data"
    },
    {
     "data": {
      "text/plain": [
       "'which amendment protects a person from cruel or unusual punishment Cruel and unusual punishment is a phrase in common law describing punishment that is considered unacceptable due to the suffering, pain, or humiliation it inflicts on the person subjected to the sanction.'"
      ]
     },
     "metadata": {},
     "output_type": "display_data"
    },
    {
     "data": {
      "text/plain": [
       "' '"
      ]
     },
     "metadata": {},
     "output_type": "display_data"
    },
    {
     "data": {
      "text/plain": [
       "'how is atp produced->'"
      ]
     },
     "metadata": {},
     "output_type": "display_data"
    },
    {
     "data": {
      "text/plain": [
       "'how is atp produced'"
      ]
     },
     "metadata": {},
     "output_type": "display_data"
    },
    {
     "data": {
      "text/plain": [
       "' '"
      ]
     },
     "metadata": {},
     "output_type": "display_data"
    },
    {
     "data": {
      "text/plain": [
       "'when is the month of autism awareness->'"
      ]
     },
     "metadata": {},
     "output_type": "display_data"
    },
    {
     "data": {
      "text/plain": [
       "'when is the month of autism awareness Autism Speaks Inc.'"
      ]
     },
     "metadata": {},
     "output_type": "display_data"
    },
    {
     "data": {
      "text/plain": [
       "' '"
      ]
     },
     "metadata": {},
     "output_type": "display_data"
    },
    {
     "data": {
      "text/plain": [
       "'cost for jet fuel->'"
      ]
     },
     "metadata": {},
     "output_type": "display_data"
    },
    {
     "data": {
      "text/plain": [
       "'cost for jet fuel Jet fuel or aviation turbine fuel (ATF, also abbreviated avtur) is a type of aviation fuel designed for use in aircraft powered by gas-turbine engines.'"
      ]
     },
     "metadata": {},
     "output_type": "display_data"
    },
    {
     "data": {
      "text/plain": [
       "' '"
      ]
     },
     "metadata": {},
     "output_type": "display_data"
    },
    {
     "data": {
      "text/plain": [
       "'what is theraderm used for->'"
      ]
     },
     "metadata": {},
     "output_type": "display_data"
    },
    {
     "data": {
      "text/plain": [
       "'what is theraderm used for'"
      ]
     },
     "metadata": {},
     "output_type": "display_data"
    },
    {
     "data": {
      "text/plain": [
       "' '"
      ]
     },
     "metadata": {},
     "output_type": "display_data"
    },
    {
     "data": {
      "text/plain": [
       "'what causes ankle blisters->'"
      ]
     },
     "metadata": {},
     "output_type": "display_data"
    },
    {
     "data": {
      "text/plain": [
       "'what causes ankle blisters Ankle problems are of frequent occurrence and feature symptoms which include pain   or discomfort experienced in the ankles.'"
      ]
     },
     "metadata": {},
     "output_type": "display_data"
    },
    {
     "data": {
      "text/plain": [
       "' '"
      ]
     },
     "metadata": {},
     "output_type": "display_data"
    },
    {
     "data": {
      "text/plain": [
       "'what is famvir prescribed for->'"
      ]
     },
     "metadata": {},
     "output_type": "display_data"
    },
    {
     "data": {
      "text/plain": [
       "'what is famvir prescribed for'"
      ]
     },
     "metadata": {},
     "output_type": "display_data"
    },
    {
     "data": {
      "text/plain": [
       "' '"
      ]
     },
     "metadata": {},
     "output_type": "display_data"
    },
    {
     "data": {
      "text/plain": [
       "'anthropological definition of environment->'"
      ]
     },
     "metadata": {},
     "output_type": "display_data"
    },
    {
     "data": {
      "text/plain": [
       "'anthropological definition of environment Anthropology is the scientific study of humanity, concerned with human behavior, human biology, and societies, in both the present and past, including  past human species.'"
      ]
     },
     "metadata": {},
     "output_type": "display_data"
    },
    {
     "data": {
      "text/plain": [
       "' '"
      ]
     },
     "metadata": {},
     "output_type": "display_data"
    },
    {
     "data": {
      "text/plain": [
       "'what is rbrvs->'"
      ]
     },
     "metadata": {},
     "output_type": "display_data"
    },
    {
     "data": {
      "text/plain": [
       "'what is rbrvs'"
      ]
     },
     "metadata": {},
     "output_type": "display_data"
    },
    {
     "data": {
      "text/plain": [
       "' '"
      ]
     },
     "metadata": {},
     "output_type": "display_data"
    },
    {
     "data": {
      "text/plain": [
       "'axon terminals or synaptic knob definition->'"
      ]
     },
     "metadata": {},
     "output_type": "display_data"
    },
    {
     "data": {
      "text/plain": [
       "\"axon terminals or synaptic knob definition Chemical synapses are biological junctions through which neurons' signals can be sent to each other and to non-neuronal cells such as those in muscles or glands.\""
      ]
     },
     "metadata": {},
     "output_type": "display_data"
    },
    {
     "data": {
      "text/plain": [
       "' '"
      ]
     },
     "metadata": {},
     "output_type": "display_data"
    },
    {
     "data": {
      "text/plain": [
       "'how many zeros in one septillion->'"
      ]
     },
     "metadata": {},
     "output_type": "display_data"
    },
    {
     "data": {
      "text/plain": [
       "'how many zeros in one septillion This article lists and discusses the usage and derivation of names of large numbers, together with their possible extensions.'"
      ]
     },
     "metadata": {},
     "output_type": "display_data"
    },
    {
     "data": {
      "text/plain": [
       "' '"
      ]
     },
     "metadata": {},
     "output_type": "display_data"
    },
    {
     "data": {
      "text/plain": [
       "'is cdg airport in main paris->'"
      ]
     },
     "metadata": {},
     "output_type": "display_data"
    },
    {
     "data": {
      "text/plain": [
       "'is cdg airport in main paris Paris Charles de Gaulle Airport (French: Aéroport de Paris-Charles-de-Gaulle, IATA: CDG, ICAO: LFPG), also known as Roissy Airport, is the largest international airport in France and one of the  busiest airports in Europe.'"
      ]
     },
     "metadata": {},
     "output_type": "display_data"
    },
    {
     "data": {
      "text/plain": [
       "' '"
      ]
     },
     "metadata": {},
     "output_type": "display_data"
    },
    {
     "data": {
      "text/plain": [
       "'does doxycycline contain sulfa->'"
      ]
     },
     "metadata": {},
     "output_type": "display_data"
    },
    {
     "data": {
      "text/plain": [
       "'does doxycycline contain sulfa Doxycycline is a broad-spectrum tetracycline-class antibiotic used in the treatment of infections caused by bacteria and certain parasites.'"
      ]
     },
     "metadata": {},
     "output_type": "display_data"
    },
    {
     "data": {
      "text/plain": [
       "' '"
      ]
     },
     "metadata": {},
     "output_type": "display_data"
    },
    {
     "data": {
      "text/plain": [
       "'when is the evening->'"
      ]
     },
     "metadata": {},
     "output_type": "display_data"
    },
    {
     "data": {
      "text/plain": [
       "'when is the evening'"
      ]
     },
     "metadata": {},
     "output_type": "display_data"
    },
    {
     "data": {
      "text/plain": [
       "' '"
      ]
     },
     "metadata": {},
     "output_type": "display_data"
    },
    {
     "data": {
      "text/plain": [
       "'what is lmt stocks->'"
      ]
     },
     "metadata": {},
     "output_type": "display_data"
    },
    {
     "data": {
      "text/plain": [
       "'what is lmt stocks The S&P 500 stock market index, maintained by S&P Dow Jones Indices, comprises 505 common stocks issued by 500 large-cap companies and traded on American stock exchanges (including the 30 companies that compose the Dow Jones Industrial Average), and covers about 80 percent of the American equity market by capitalization.'"
      ]
     },
     "metadata": {},
     "output_type": "display_data"
    },
    {
     "data": {
      "text/plain": [
       "' '"
      ]
     },
     "metadata": {},
     "output_type": "display_data"
    },
    {
     "data": {
      "text/plain": [
       "'when shazam movie released->'"
      ]
     },
     "metadata": {},
     "output_type": "display_data"
    },
    {
     "data": {
      "text/plain": [
       "'when shazam movie released Shazam!'"
      ]
     },
     "metadata": {},
     "output_type": "display_data"
    },
    {
     "data": {
      "text/plain": [
       "' '"
      ]
     },
     "metadata": {},
     "output_type": "display_data"
    },
    {
     "data": {
      "text/plain": [
       "'melanoma skin cancer symptoms->'"
      ]
     },
     "metadata": {},
     "output_type": "display_data"
    },
    {
     "data": {
      "text/plain": [
       "'melanoma skin cancer symptoms Skin cancers are cancers that arise from the skin.'"
      ]
     },
     "metadata": {},
     "output_type": "display_data"
    },
    {
     "data": {
      "text/plain": [
       "' '"
      ]
     },
     "metadata": {},
     "output_type": "display_data"
    },
    {
     "data": {
      "text/plain": [
       "'what level for banish->'"
      ]
     },
     "metadata": {},
     "output_type": "display_data"
    },
    {
     "data": {
      "text/plain": [
       "'what level for banish'"
      ]
     },
     "metadata": {},
     "output_type": "display_data"
    },
    {
     "data": {
      "text/plain": [
       "' '"
      ]
     },
     "metadata": {},
     "output_type": "display_data"
    },
    {
     "data": {
      "text/plain": [
       "'who plays dr. fell on vampire diaries->'"
      ]
     },
     "metadata": {},
     "output_type": "display_data"
    },
    {
     "data": {
      "text/plain": [
       "'who plays dr. fell on vampire diaries The Vampire Diaries is an American fantasy-drama television series which was first broadcast on The CW from 2009 to 2017, airing 171 episodes over 8 seasons.'"
      ]
     },
     "metadata": {},
     "output_type": "display_data"
    },
    {
     "data": {
      "text/plain": [
       "' '"
      ]
     },
     "metadata": {},
     "output_type": "display_data"
    },
    {
     "data": {
      "text/plain": [
       "'how much do it cost to get your bachelor degree online->'"
      ]
     },
     "metadata": {},
     "output_type": "display_data"
    },
    {
     "data": {
      "text/plain": [
       "\"how much do it cost to get your bachelor degree online A bachelor's degree (from Middle Latin baccalaureus) or baccalaureate (from Modern Latin baccalaureatus) is an undergraduate academic degree awarded by colleges and universities upon completion of a course of study lasting three to seven years (depending on institution and academic discipline).\""
      ]
     },
     "metadata": {},
     "output_type": "display_data"
    },
    {
     "data": {
      "text/plain": [
       "' '"
      ]
     },
     "metadata": {},
     "output_type": "display_data"
    },
    {
     "data": {
      "text/plain": [
       "'what age do you need to get prostate check?->'"
      ]
     },
     "metadata": {},
     "output_type": "display_data"
    },
    {
     "data": {
      "text/plain": [
       "'what age do you need to get prostate check? Benign prostatic hyperplasia (BPH), also called prostate enlargement, is a noncancerous increase in size of the prostate gland.'"
      ]
     },
     "metadata": {},
     "output_type": "display_data"
    },
    {
     "data": {
      "text/plain": [
       "' '"
      ]
     },
     "metadata": {},
     "output_type": "display_data"
    },
    {
     "data": {
      "text/plain": [
       "'who wrote the song look at me now song->'"
      ]
     },
     "metadata": {},
     "output_type": "display_data"
    },
    {
     "data": {
      "text/plain": [
       "'who wrote the song look at me now song \"Don\\'t Look Back in Anger\" is a song by the English rock band Oasis.'"
      ]
     },
     "metadata": {},
     "output_type": "display_data"
    },
    {
     "data": {
      "text/plain": [
       "' '"
      ]
     },
     "metadata": {},
     "output_type": "display_data"
    },
    {
     "data": {
      "text/plain": [
       "'example of monotonic function->'"
      ]
     },
     "metadata": {},
     "output_type": "display_data"
    },
    {
     "data": {
      "text/plain": [
       "'example of monotonic function In mathematics, a monotonic function (or monotone function) is a function between ordered sets that preserves or reverses the given order.'"
      ]
     },
     "metadata": {},
     "output_type": "display_data"
    },
    {
     "data": {
      "text/plain": [
       "' '"
      ]
     },
     "metadata": {},
     "output_type": "display_data"
    },
    {
     "data": {
      "text/plain": [
       "'what is andres b->'"
      ]
     },
     "metadata": {},
     "output_type": "display_data"
    },
    {
     "data": {
      "text/plain": [
       "'what is andres b The Adventures of André & Wally B. (or simply André & Wally B.) is a 1984 American animated short film produced by The Graphics Group, then a division of Lucasfilm which was later renamed Pixar before being spun off as a separate company in 1986.'"
      ]
     },
     "metadata": {},
     "output_type": "display_data"
    },
    {
     "data": {
      "text/plain": [
       "' '"
      ]
     },
     "metadata": {},
     "output_type": "display_data"
    },
    {
     "data": {
      "text/plain": [
       "'how to convert figures into words in excel 2010->'"
      ]
     },
     "metadata": {},
     "output_type": "display_data"
    },
    {
     "data": {
      "text/plain": [
       "'how to convert figures into words in excel 2010 Excel Saga (Japanese: エクセル♥サーガ, Hepburn: Ekuseru Sāga) is a manga series written and illustrated by Kōshi Rikudō.'"
      ]
     },
     "metadata": {},
     "output_type": "display_data"
    },
    {
     "data": {
      "text/plain": [
       "' '"
      ]
     },
     "metadata": {},
     "output_type": "display_data"
    },
    {
     "data": {
      "text/plain": [
       "'what time is it in howard pa->'"
      ]
     },
     "metadata": {},
     "output_type": "display_data"
    },
    {
     "data": {
      "text/plain": [
       "'what time is it in howard pa Trevor Wallace Howard-Smith (29 September 1913 – 7 January 1988), known as Trevor Howard, was an English actor.'"
      ]
     },
     "metadata": {},
     "output_type": "display_data"
    },
    {
     "data": {
      "text/plain": [
       "' '"
      ]
     },
     "metadata": {},
     "output_type": "display_data"
    },
    {
     "data": {
      "text/plain": [
       "'how many people use google in one day->'"
      ]
     },
     "metadata": {},
     "output_type": "display_data"
    },
    {
     "data": {
      "text/plain": [
       "'how many people use google in one day The Google logo appears in numerous settings to identify the search engine company.'"
      ]
     },
     "metadata": {},
     "output_type": "display_data"
    },
    {
     "data": {
      "text/plain": [
       "' '"
      ]
     },
     "metadata": {},
     "output_type": "display_data"
    },
    {
     "data": {
      "text/plain": [
       "'what format does a thumb drive need to be for a mac->'"
      ]
     },
     "metadata": {},
     "output_type": "display_data"
    },
    {
     "data": {
      "text/plain": [
       "'what format does a thumb drive need to be for a mac A floppy disk or floppy diskette (sometimes casually referred to as a floppy or diskette) is a type of disk storage composed of a thin and flexible disk of a magnetic storage medium in a square or nearly square plastic enclosure lined with a fabric that removes dust particles from the spinning disk.'"
      ]
     },
     "metadata": {},
     "output_type": "display_data"
    },
    {
     "data": {
      "text/plain": [
       "' '"
      ]
     },
     "metadata": {},
     "output_type": "display_data"
    },
    {
     "data": {
      "text/plain": [
       "'how to heal muscle soreness->'"
      ]
     },
     "metadata": {},
     "output_type": "display_data"
    },
    {
     "data": {
      "text/plain": [
       "'how to heal muscle soreness Healing is the process of the restoration of health from an unbalanced, diseased, damaged or unvitalized organism. Delayed onset muscle soreness (DOMS) is the pain and stiffness felt in muscles several hours to days after unaccustomed or strenuous exercise.'"
      ]
     },
     "metadata": {},
     "output_type": "display_data"
    },
    {
     "data": {
      "text/plain": [
       "' '"
      ]
     },
     "metadata": {},
     "output_type": "display_data"
    },
    {
     "data": {
      "text/plain": [
       "'ar glasses definition->'"
      ]
     },
     "metadata": {},
     "output_type": "display_data"
    },
    {
     "data": {
      "text/plain": [
       "'ar glasses definition Smartglasses or smart glasses are wearable computer glasses that add information alongside or to what the wearer sees.'"
      ]
     },
     "metadata": {},
     "output_type": "display_data"
    },
    {
     "data": {
      "text/plain": [
       "' '"
      ]
     },
     "metadata": {},
     "output_type": "display_data"
    },
    {
     "data": {
      "text/plain": [
       "'what does electric vehicle mean->'"
      ]
     },
     "metadata": {},
     "output_type": "display_data"
    },
    {
     "data": {
      "text/plain": [
       "'what does electric vehicle mean Electric car use by country varies worldwide, as the adoption of plug-in electric vehicles is affected by consumer demand, market prices, availability of charging infrastructure, and government policies, such as purchase incentives and long term regulatory signals (ZEV mandates, CO2 emissions regulations, fuel economy standards, and phase-out of internal combustion engine vehicles).Plug-in electric vehicles (PEVs) are generally divided into all-electric or battery electric vehicles (BEVs), that run only on batteries, and plug-in hybrids (PHEVs), that combine battery power with internal combustion engines.'"
      ]
     },
     "metadata": {},
     "output_type": "display_data"
    },
    {
     "data": {
      "text/plain": [
       "' '"
      ]
     },
     "metadata": {},
     "output_type": "display_data"
    },
    {
     "data": {
      "text/plain": [
       "'hilton lifetime diamond member benefits->'"
      ]
     },
     "metadata": {},
     "output_type": "display_data"
    },
    {
     "data": {
      "text/plain": [
       "'hilton lifetime diamond member benefits Rebecca Diamond (born January 30, 1967) is a former contributor on the Fox Business Network and the Fox News Channel.'"
      ]
     },
     "metadata": {},
     "output_type": "display_data"
    },
    {
     "data": {
      "text/plain": [
       "' '"
      ]
     },
     "metadata": {},
     "output_type": "display_data"
    },
    {
     "data": {
      "text/plain": [
       "'noe fractures->'"
      ]
     },
     "metadata": {},
     "output_type": "display_data"
    },
    {
     "data": {
      "text/plain": [
       "'noe fractures The zygomaticomaxillary complex fracture, also known as a quadripod fracture, quadramalar fracture, and formerly referred to as a tripod fracture or trimalar fracture, has four components: the lateral orbital wall (at either the zygomaticofrontal suture superiorly along the wall or zygomaticosphenoid suture inferiorly), separation of the maxilla and zygoma along the anterior maxilla (near the zygomaticomaxillary suture), the zygomatic arch, and the orbital floor near the infraorbital canal.'"
      ]
     },
     "metadata": {},
     "output_type": "display_data"
    },
    {
     "data": {
      "text/plain": [
       "' '"
      ]
     },
     "metadata": {},
     "output_type": "display_data"
    },
    {
     "data": {
      "text/plain": [
       "'how long are safety council class certification good for->'"
      ]
     },
     "metadata": {},
     "output_type": "display_data"
    },
    {
     "data": {
      "text/plain": [
       "'how long are safety council class certification good for UL LLC is a global safety certification company headquartered in Northbrook, Illinois.'"
      ]
     },
     "metadata": {},
     "output_type": "display_data"
    },
    {
     "data": {
      "text/plain": [
       "' '"
      ]
     },
     "metadata": {},
     "output_type": "display_data"
    },
    {
     "data": {
      "text/plain": [
       "'what is biblioteca in->'"
      ]
     },
     "metadata": {},
     "output_type": "display_data"
    },
    {
     "data": {
      "text/plain": [
       "'what is biblioteca in'"
      ]
     },
     "metadata": {},
     "output_type": "display_data"
    },
    {
     "data": {
      "text/plain": [
       "' '"
      ]
     },
     "metadata": {},
     "output_type": "display_data"
    },
    {
     "data": {
      "text/plain": [
       "'what is physical description of spruce->'"
      ]
     },
     "metadata": {},
     "output_type": "display_data"
    },
    {
     "data": {
      "text/plain": [
       "'what is physical description of spruce Picea glauca, the white spruce, is a species of spruce native to the northern temperate and boreal forests in North America.'"
      ]
     },
     "metadata": {},
     "output_type": "display_data"
    },
    {
     "data": {
      "text/plain": [
       "' '"
      ]
     },
     "metadata": {},
     "output_type": "display_data"
    },
    {
     "data": {
      "text/plain": [
       "'what are hydrocarbon in lipids->'"
      ]
     },
     "metadata": {},
     "output_type": "display_data"
    },
    {
     "data": {
      "text/plain": [
       "'what are hydrocarbon in lipids In biology and biochemistry, a lipid is a macrobiomolecule that is soluble in nonpolar solvents.'"
      ]
     },
     "metadata": {},
     "output_type": "display_data"
    },
    {
     "data": {
      "text/plain": [
       "' '"
      ]
     },
     "metadata": {},
     "output_type": "display_data"
    },
    {
     "data": {
      "text/plain": [
       "'closed ended mortgage definition->'"
      ]
     },
     "metadata": {},
     "output_type": "display_data"
    },
    {
     "data": {
      "text/plain": [
       "'closed ended mortgage definition A closed-end fund (CEF) or closed-ended fund is a collective investment model based on issuing a fixed number of shares which are not redeemable from the fund.'"
      ]
     },
     "metadata": {},
     "output_type": "display_data"
    },
    {
     "data": {
      "text/plain": [
       "' '"
      ]
     },
     "metadata": {},
     "output_type": "display_data"
    },
    {
     "data": {
      "text/plain": [
       "'hydrogen is a liquid below what temperature->'"
      ]
     },
     "metadata": {},
     "output_type": "display_data"
    },
    {
     "data": {
      "text/plain": [
       "'hydrogen is a liquid below what temperature Liquid hydrogen (LH2 or LH2) is the liquid state of the element hydrogen.'"
      ]
     },
     "metadata": {},
     "output_type": "display_data"
    },
    {
     "data": {
      "text/plain": [
       "' '"
      ]
     },
     "metadata": {},
     "output_type": "display_data"
    },
    {
     "data": {
      "text/plain": [
       "'what type of eruption does pavolf have->'"
      ]
     },
     "metadata": {},
     "output_type": "display_data"
    },
    {
     "data": {
      "text/plain": [
       "'what type of eruption does pavolf have Several types of volcanic eruptions—during which lava, tephra (ash, lapilli, volcanic bombs and volcanic blocks), and assorted gases are expelled from a volcanic vent or fissure—have been distinguished by volcanologists.'"
      ]
     },
     "metadata": {},
     "output_type": "display_data"
    },
    {
     "data": {
      "text/plain": [
       "' '"
      ]
     },
     "metadata": {},
     "output_type": "display_data"
    },
    {
     "data": {
      "text/plain": [
       "'how many carbs should you eat each day to lose weight->'"
      ]
     },
     "metadata": {},
     "output_type": "display_data"
    },
    {
     "data": {
      "text/plain": [
       "'how many carbs should you eat each day to lose weight Weight loss, in the context of medicine, health, or physical fitness, refers to a reduction of the total body mass, by a mean loss of fluid, body fat (adipose tissue), or lean mass (namely bone mineral deposits, muscle, tendon, and other connective tissue).'"
      ]
     },
     "metadata": {},
     "output_type": "display_data"
    },
    {
     "data": {
      "text/plain": [
       "' '"
      ]
     },
     "metadata": {},
     "output_type": "display_data"
    },
    {
     "data": {
      "text/plain": [
       "'is school lunch tax deductible->'"
      ]
     },
     "metadata": {},
     "output_type": "display_data"
    },
    {
     "data": {
      "text/plain": [
       "'is school lunch tax deductible The Oprah Winfrey  formally  The Oprah Winfrey Leadership Academy Foundation is a tax-deductible charity with  total assets of US$172 million.'"
      ]
     },
     "metadata": {},
     "output_type": "display_data"
    },
    {
     "data": {
      "text/plain": [
       "' '"
      ]
     },
     "metadata": {},
     "output_type": "display_data"
    },
    {
     "data": {
      "text/plain": [
       "'symptoms of different types of brain bleeds->'"
      ]
     },
     "metadata": {},
     "output_type": "display_data"
    },
    {
     "data": {
      "text/plain": [
       "'symptoms of different types of brain bleeds A brain tumor occurs when abnormal cells form within the brain.'"
      ]
     },
     "metadata": {},
     "output_type": "display_data"
    },
    {
     "data": {
      "text/plain": [
       "' '"
      ]
     },
     "metadata": {},
     "output_type": "display_data"
    },
    {
     "data": {
      "text/plain": [
       "'are stem cell injections fda approved->'"
      ]
     },
     "metadata": {},
     "output_type": "display_data"
    },
    {
     "data": {
      "text/plain": [
       "'are stem cell injections fda approved In multicellular organisms, stem cells are undifferentiated or partially differentiated cells that can differentiate into various types of cells and proliferate indefinitely to produce more of the same stem cell.'"
      ]
     },
     "metadata": {},
     "output_type": "display_data"
    },
    {
     "data": {
      "text/plain": [
       "' '"
      ]
     },
     "metadata": {},
     "output_type": "display_data"
    },
    {
     "data": {
      "text/plain": [
       "'difference between a mcdouble and a double cheeseburger->'"
      ]
     },
     "metadata": {},
     "output_type": "display_data"
    },
    {
     "data": {
      "text/plain": [
       "\"difference between a mcdouble and a double cheeseburger McDonald's Corporation is an American fast food company, founded in 1940 as a restaurant operated by Richard and Maurice McDonald, in San Bernardino, California, United States.\""
      ]
     },
     "metadata": {},
     "output_type": "display_data"
    },
    {
     "data": {
      "text/plain": [
       "' '"
      ]
     },
     "metadata": {},
     "output_type": "display_data"
    },
    {
     "data": {
      "text/plain": [
       "'what does chs stand for?->'"
      ]
     },
     "metadata": {},
     "output_type": "display_data"
    },
    {
     "data": {
      "text/plain": [
       "'what does chs stand for? 2 Tone Records was an English record label that mostly released ska and reggae-influenced music with a punk rock and pop music overtone.'"
      ]
     },
     "metadata": {},
     "output_type": "display_data"
    },
    {
     "data": {
      "text/plain": [
       "' '"
      ]
     },
     "metadata": {},
     "output_type": "display_data"
    },
    {
     "data": {
      "text/plain": [
       "'what are the effects of having low blood sugar->'"
      ]
     },
     "metadata": {},
     "output_type": "display_data"
    },
    {
     "data": {
      "text/plain": [
       "'what are the effects of having low blood sugar Hypoglycemia, also known as low blood sugar, is a fall in blood sugar to levels below normal.'"
      ]
     },
     "metadata": {},
     "output_type": "display_data"
    },
    {
     "data": {
      "text/plain": [
       "' '"
      ]
     },
     "metadata": {},
     "output_type": "display_data"
    },
    {
     "data": {
      "text/plain": [
       "'how much is a us postal stamp cost->'"
      ]
     },
     "metadata": {},
     "output_type": "display_data"
    },
    {
     "data": {
      "text/plain": [
       "'how much is a us postal stamp cost The history of postal service of the United States began with the delivery of stampless letters, whose cost was borne by the receiving person, later also encompassed pre-paid letters carried by private mail carriers and provisional post offices, and culminated in a system of universal prepayment that required all letters to bear nationally issued adhesive postage stamps.In the earliest days, ship captains arriving in port with stampless mail would advertise in the local newspaper names of those having mail and for them to come collect and pay for it, if not already paid for by the sender.'"
      ]
     },
     "metadata": {},
     "output_type": "display_data"
    },
    {
     "data": {
      "text/plain": [
       "' '"
      ]
     },
     "metadata": {},
     "output_type": "display_data"
    },
    {
     "data": {
      "text/plain": [
       "'university of dubuque enrollment->'"
      ]
     },
     "metadata": {},
     "output_type": "display_data"
    },
    {
     "data": {
      "text/plain": [
       "'university of dubuque enrollment Clarke University is a private Catholic university in Dubuque, Iowa.'"
      ]
     },
     "metadata": {},
     "output_type": "display_data"
    },
    {
     "data": {
      "text/plain": [
       "' '"
      ]
     },
     "metadata": {},
     "output_type": "display_data"
    },
    {
     "name": "stdout",
     "output_type": "stream",
     "text": [
      "Done\n"
     ]
    }
   ],
   "source": [
    "import wikipedia\n",
    "import random\n",
    "import itertools\n",
    "import pandas as pd\n",
    "import numpy as np\n",
    "from IPython.display import display, clear_output\n",
    "\n",
    "query_file_path=\"msmarco-test2019-queries.tsv\"\n",
    "query_file = pd.read_csv(query_file_path, sep=\"\\t\", names=[\"qid\", \"query\"])\n",
    "queries = query_file.to_numpy()\n",
    "out=\"\"\n",
    "lines = 1\n",
    "f = open(str(random.randrange(10000))+'msmarco-test2019-queries-extradesc-n.tsv', 'w', encoding=\"utf-8\")\n",
    "for query in queries:\n",
    "    query_text = query[1]\n",
    "    query_text_splitted = query_text.split()\n",
    "    stopwords = [\"i\", \"me\", \"my\", \"myself\", \"we\", \"our\", \"ours\", \"ourselves\", \"you\", \"your\", \"yours\", \"yourself\", \"yourselves\", \"he\", \"him\", \"his\", \"himself\", \"she\", \"her\", \"hers\", \"herself\", \"it\", \"its\", \"itself\", \"they\", \"them\", \"their\", \"theirs\", \"themselves\", \"what\", \"which\", \"who\", \"whom\", \"this\", \"that\", \"these\", \"those\", \"am\", \"is\", \"are\", \"was\", \"were\", \"be\", \"been\", \"being\", \"have\", \"has\", \"had\", \"having\", \"do\", \"does\", \"did\", \"doing\", \"a\", \"an\", \"the\", \"and\", \"but\", \"if\", \"or\", \"because\", \"as\", \"until\", \"while\", \"of\", \"at\", \"by\", \"for\", \"with\", \"about\", \"against\", \"between\", \"into\", \"through\", \"during\", \"before\", \"after\", \"above\", \"below\", \"to\", \"from\", \"up\", \"down\", \"in\", \"out\", \"on\", \"off\", \"over\", \"under\", \"again\", \"further\", \"then\", \"once\", \"here\", \"there\", \"when\", \"where\", \"why\", \"how\", \"all\", \"any\", \"both\", \"each\", \"few\", \"more\", \"most\", \"other\", \"some\", \"such\", \"no\", \"nor\", \"not\", \"only\", \"own\", \"same\", \"so\", \"than\", \"too\", \"very\", \"s\", \"t\", \"can\", \"will\", \"just\", \"don\", \"should\", \"now\"]\n",
    "    query_text_splitted_reduced = [x for x in query_text_splitted if x not in stopwords]    \n",
    "    termC = 10\n",
    "    l=min(termC,len(query_text_splitted_reduced))\n",
    "    foundAddition = False\n",
    "    for i in range(l+1,1,-1):\n",
    "        if not foundAddition:\n",
    "            for j in range(len(query_text_splitted_reduced)+1-i):\n",
    "                terms = []\n",
    "                for k in range(j, j+i):\n",
    "                    terms.append(query_text_splitted_reduced[k])\n",
    "                termstring = ' '.join(terms)\n",
    "#             print(termstring)\n",
    "                try:\n",
    "                    summary = wikipedia.summary(termstring, sentences=lines, auto_suggest=True, redirect=True)\n",
    "                    query_text_splitted.append(summary)\n",
    "                    out=summary\n",
    "                    foundAddition = True\n",
    "                except:\n",
    "                    out=\"[ERROR DISAMB]\"\n",
    "#                 clear_output(wait=True)\n",
    "#                 display(\"terms:\"+termstring+\"| i: \" + str(i) + \"| j: \" + str(j) + \"| out: \" + str(out))\n",
    "    query_text_rejoined = ' '.join(query_text_splitted)\n",
    "#     clear_output(wait=True)\n",
    "    display(str(query[0]query_text + \"->\")\n",
    "    display(query_text_rejoined)\n",
    "    display(\" \")\n",
    "    f.write(str(query[0]) + '\\t' + str(query_text_rejoined).replace('\\n', ' ').replace('\\r', '') + '\\n')\n",
    "\n",
    "print(\"Done\")\n"
   ]
  },
  {
   "cell_type": "code",
   "execution_count": 36,
   "metadata": {},
   "outputs": [
    {
     "data": {
      "text/plain": [
       "['university', 'of', 'dubuque', 'enrollment']"
      ]
     },
     "execution_count": 36,
     "metadata": {},
     "output_type": "execute_result"
    }
   ],
   "source": [
    "query_text_splitted"
   ]
  },
  {
   "cell_type": "code",
   "execution_count": 44,
   "metadata": {},
   "outputs": [
    {
     "data": {
      "text/plain": [
       "['university', 'of']"
      ]
     },
     "execution_count": 44,
     "metadata": {},
     "output_type": "execute_result"
    }
   ],
   "source": [
    "terms"
   ]
  },
  {
   "cell_type": "code",
   "execution_count": 43,
   "metadata": {},
   "outputs": [],
   "source": [
    "terms.append(query_text_splitted[1])"
   ]
  },
  {
   "cell_type": "code",
   "execution_count": null,
   "metadata": {},
   "outputs": [],
   "source": []
  },
  {
   "cell_type": "code",
   "execution_count": null,
   "metadata": {},
   "outputs": [],
   "source": []
  }
 ],
 "metadata": {
  "kernelspec": {
   "display_name": "Python 3",
   "language": "python",
   "name": "python3"
  },
  "language_info": {
   "codemirror_mode": {
    "name": "ipython",
    "version": 3
   },
   "file_extension": ".py",
   "mimetype": "text/x-python",
   "name": "python",
   "nbconvert_exporter": "python",
   "pygments_lexer": "ipython3",
   "version": "3.8.5"
  }
 },
 "nbformat": 4,
 "nbformat_minor": 4
}
