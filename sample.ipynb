{
 "cells": [
  {
   "cell_type": "code",
   "execution_count": 49,
   "metadata": {},
   "outputs": [],
   "source": [
    "import random\n",
    "filename=\"msmarco-test2019-queries.tsv\"\n",
    "file1 = open(filename, 'r', encoding=\"utf-8\")\n",
    "Lines = file1.readlines()\n",
    "div = 40\n",
    "L=[]\n",
    "randomSet = random.sample(range(0, len(Lines)-1), int(len(Lines)/div))\n",
    "randomSet = sorted(randomSet)\n",
    "for i in randomSet:\n",
    "    L.append(Lines[i])\n",
    "file1 = open(\"Factor\"+str(div)+\"Shrunken\"+str(random.randrange(10000))+filename, 'w', encoding=\"utf-8\")\n",
    "file1.writelines(L)\n",
    "file1.close()"
   ]
  },
  {
   "cell_type": "code",
   "execution_count": null,
   "metadata": {},
   "outputs": [],
   "source": []
  }
 ],
 "metadata": {
  "kernelspec": {
   "display_name": "Python 3",
   "language": "python",
   "name": "python3"
  },
  "language_info": {
   "codemirror_mode": {
    "name": "ipython",
    "version": 3
   },
   "file_extension": ".py",
   "mimetype": "text/x-python",
   "name": "python",
   "nbconvert_exporter": "python",
   "pygments_lexer": "ipython3",
   "version": "3.8.5"
  }
 },
 "nbformat": 4,
 "nbformat_minor": 4
}
